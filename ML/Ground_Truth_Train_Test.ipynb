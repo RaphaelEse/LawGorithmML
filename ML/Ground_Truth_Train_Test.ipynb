{
 "cells": [
  {
   "cell_type": "code",
   "id": "initial_id",
   "metadata": {
    "collapsed": true,
    "ExecuteTime": {
     "end_time": "2025-04-13T01:09:33.164068Z",
     "start_time": "2025-04-13T01:09:21.451639Z"
    }
   },
   "source": [
    "import pandas as pd\n",
    "from dask import annotate\n",
    "from transformers import AutoModelForSequenceClassification, AutoTokenizer, TrainingArguments, Trainer\n",
    "from datasets import Dataset\n",
    "from sklearn.preprocessing import LabelEncoder\n",
    "import torch\n",
    "import tqdm\n",
    "import warnings"
   ],
   "outputs": [],
   "execution_count": 1
  },
  {
   "metadata": {
    "ExecuteTime": {
     "end_time": "2025-04-13T01:09:57.355454Z",
     "start_time": "2025-04-13T01:09:57.353054Z"
    }
   },
   "cell_type": "code",
   "source": "warnings.filterwarnings(\"ignore\")",
   "id": "6cee13acd3613982",
   "outputs": [],
   "execution_count": 2
  },
  {
   "metadata": {
    "ExecuteTime": {
     "end_time": "2025-04-13T01:09:58.753309Z",
     "start_time": "2025-04-13T01:09:58.702251Z"
    }
   },
   "cell_type": "code",
   "source": [
    "annotate_df = pd.read_csv('Annotated_Citations.csv')\n",
    "annotate_df.head(5)"
   ],
   "id": "ccf1745c01b8bb8a",
   "outputs": [
    {
     "data": {
      "text/plain": [
       "           text startPosition endPosition       normCite citeType altCite  \\\n",
       "0       1 USC 1          3479        3486        1 usc 1      USC     NaN   \n",
       "1  or direction        188589      188601  or dir ection      NaN     NaN   \n",
       "2     42 U.S.C.        245062      245071         42 usc      USC     NaN   \n",
       "3   19 USC 2434        110102      110113    19 usc 2434      USC     NaN   \n",
       "4     2 FAM 154        343562      343571  [2] 1 fam 154       UK     NaN   \n",
       "\n",
       "  pinCiteStr pageRangeStr nodeId      section sectionAndSubSection  \\\n",
       "0        NaN          NaN      0      1 USC 1              1 USC 1   \n",
       "1        NaN          NaN      0          NaN                  NaN   \n",
       "2        NaN          NaN      0   42 U.S.C.            42 U.S.C.    \n",
       "3        NaN          NaN      0  19 USC 2434          19 USC 2434   \n",
       "4        NaN          NaN      0          NaN                  NaN   \n",
       "\n",
       "  isShortCite chunk_id                                            context  \\\n",
       "0       FALSE        0  Division A—Military Construction, Veterans Aff...   \n",
       "1       False      9.0  16353(b)). <paragraph display-inline=\"no-displ...   \n",
       "2       False        4  Domestic Food Programs Food and Nutrition Serv...   \n",
       "3       False     16.0  4655)— <clause display-inline=\"no-display-inli...   \n",
       "4       False      NaN  (d) None of the funds appropriated or otherwis...   \n",
       "\n",
       "        label  \n",
       "0  Definition  \n",
       "1  Definition  \n",
       "2   Authority  \n",
       "3    Amending  \n",
       "4   Authority  "
      ],
      "text/html": [
       "<div>\n",
       "<style scoped>\n",
       "    .dataframe tbody tr th:only-of-type {\n",
       "        vertical-align: middle;\n",
       "    }\n",
       "\n",
       "    .dataframe tbody tr th {\n",
       "        vertical-align: top;\n",
       "    }\n",
       "\n",
       "    .dataframe thead th {\n",
       "        text-align: right;\n",
       "    }\n",
       "</style>\n",
       "<table border=\"1\" class=\"dataframe\">\n",
       "  <thead>\n",
       "    <tr style=\"text-align: right;\">\n",
       "      <th></th>\n",
       "      <th>text</th>\n",
       "      <th>startPosition</th>\n",
       "      <th>endPosition</th>\n",
       "      <th>normCite</th>\n",
       "      <th>citeType</th>\n",
       "      <th>altCite</th>\n",
       "      <th>pinCiteStr</th>\n",
       "      <th>pageRangeStr</th>\n",
       "      <th>nodeId</th>\n",
       "      <th>section</th>\n",
       "      <th>sectionAndSubSection</th>\n",
       "      <th>isShortCite</th>\n",
       "      <th>chunk_id</th>\n",
       "      <th>context</th>\n",
       "      <th>label</th>\n",
       "    </tr>\n",
       "  </thead>\n",
       "  <tbody>\n",
       "    <tr>\n",
       "      <th>0</th>\n",
       "      <td>1 USC 1</td>\n",
       "      <td>3479</td>\n",
       "      <td>3486</td>\n",
       "      <td>1 usc 1</td>\n",
       "      <td>USC</td>\n",
       "      <td>NaN</td>\n",
       "      <td>NaN</td>\n",
       "      <td>NaN</td>\n",
       "      <td>0</td>\n",
       "      <td>1 USC 1</td>\n",
       "      <td>1 USC 1</td>\n",
       "      <td>FALSE</td>\n",
       "      <td>0</td>\n",
       "      <td>Division A—Military Construction, Veterans Aff...</td>\n",
       "      <td>Definition</td>\n",
       "    </tr>\n",
       "    <tr>\n",
       "      <th>1</th>\n",
       "      <td>or direction</td>\n",
       "      <td>188589</td>\n",
       "      <td>188601</td>\n",
       "      <td>or dir ection</td>\n",
       "      <td>NaN</td>\n",
       "      <td>NaN</td>\n",
       "      <td>NaN</td>\n",
       "      <td>NaN</td>\n",
       "      <td>0</td>\n",
       "      <td>NaN</td>\n",
       "      <td>NaN</td>\n",
       "      <td>False</td>\n",
       "      <td>9.0</td>\n",
       "      <td>16353(b)). &lt;paragraph display-inline=\"no-displ...</td>\n",
       "      <td>Definition</td>\n",
       "    </tr>\n",
       "    <tr>\n",
       "      <th>2</th>\n",
       "      <td>42 U.S.C.</td>\n",
       "      <td>245062</td>\n",
       "      <td>245071</td>\n",
       "      <td>42 usc</td>\n",
       "      <td>USC</td>\n",
       "      <td>NaN</td>\n",
       "      <td>NaN</td>\n",
       "      <td>NaN</td>\n",
       "      <td>0</td>\n",
       "      <td>42 U.S.C.</td>\n",
       "      <td>42 U.S.C.</td>\n",
       "      <td>False</td>\n",
       "      <td>4</td>\n",
       "      <td>Domestic Food Programs Food and Nutrition Serv...</td>\n",
       "      <td>Authority</td>\n",
       "    </tr>\n",
       "    <tr>\n",
       "      <th>3</th>\n",
       "      <td>19 USC 2434</td>\n",
       "      <td>110102</td>\n",
       "      <td>110113</td>\n",
       "      <td>19 usc 2434</td>\n",
       "      <td>USC</td>\n",
       "      <td>NaN</td>\n",
       "      <td>NaN</td>\n",
       "      <td>NaN</td>\n",
       "      <td>0</td>\n",
       "      <td>19 USC 2434</td>\n",
       "      <td>19 USC 2434</td>\n",
       "      <td>False</td>\n",
       "      <td>16.0</td>\n",
       "      <td>4655)— &lt;clause display-inline=\"no-display-inli...</td>\n",
       "      <td>Amending</td>\n",
       "    </tr>\n",
       "    <tr>\n",
       "      <th>4</th>\n",
       "      <td>2 FAM 154</td>\n",
       "      <td>343562</td>\n",
       "      <td>343571</td>\n",
       "      <td>[2] 1 fam 154</td>\n",
       "      <td>UK</td>\n",
       "      <td>NaN</td>\n",
       "      <td>NaN</td>\n",
       "      <td>NaN</td>\n",
       "      <td>0</td>\n",
       "      <td>NaN</td>\n",
       "      <td>NaN</td>\n",
       "      <td>False</td>\n",
       "      <td>NaN</td>\n",
       "      <td>(d) None of the funds appropriated or otherwis...</td>\n",
       "      <td>Authority</td>\n",
       "    </tr>\n",
       "  </tbody>\n",
       "</table>\n",
       "</div>"
      ]
     },
     "execution_count": 3,
     "metadata": {},
     "output_type": "execute_result"
    }
   ],
   "execution_count": 3
  },
  {
   "metadata": {
    "ExecuteTime": {
     "end_time": "2025-04-13T01:10:01.623438Z",
     "start_time": "2025-04-13T01:10:01.603983Z"
    }
   },
   "cell_type": "code",
   "source": "annotate_df.info()",
   "id": "b18b3dac6d47d251",
   "outputs": [
    {
     "name": "stdout",
     "output_type": "stream",
     "text": [
      "<class 'pandas.core.frame.DataFrame'>\n",
      "RangeIndex: 2353 entries, 0 to 2352\n",
      "Data columns (total 15 columns):\n",
      " #   Column                Non-Null Count  Dtype \n",
      "---  ------                --------------  ----- \n",
      " 0   text                  2353 non-null   object\n",
      " 1   startPosition         2353 non-null   object\n",
      " 2   endPosition           2353 non-null   object\n",
      " 3   normCite              2353 non-null   object\n",
      " 4   citeType              2306 non-null   object\n",
      " 5   altCite               451 non-null    object\n",
      " 6   pinCiteStr            2 non-null      object\n",
      " 7   pageRangeStr          2 non-null      object\n",
      " 8   nodeId                2353 non-null   object\n",
      " 9   section               1707 non-null   object\n",
      " 10  sectionAndSubSection  1707 non-null   object\n",
      " 11  isShortCite           2353 non-null   object\n",
      " 12  chunk_id              1596 non-null   object\n",
      " 13  context               2353 non-null   object\n",
      " 14  label                 2353 non-null   object\n",
      "dtypes: object(15)\n",
      "memory usage: 275.9+ KB\n"
     ]
    }
   ],
   "execution_count": 4
  },
  {
   "metadata": {
    "ExecuteTime": {
     "end_time": "2025-04-13T01:10:03.483096Z",
     "start_time": "2025-04-13T01:10:03.412124Z"
    }
   },
   "cell_type": "code",
   "source": [
    "holdout_df = pd.read_csv('Holdout_Citations.csv')\n",
    "holdout_df.head(5)"
   ],
   "id": "edd3a23fb473202f",
   "outputs": [
    {
     "data": {
      "text/plain": [
       "                                                text startPosition  \\\n",
       "0                                         10 USC 816        117893   \n",
       "1  section 702(b) of the Department of Agricultur...        133065   \n",
       "2  section 302(a) of the Congressional Budget Act...        133766   \n",
       "3  section 801 of the Foreign Intelligence Survei...         39035   \n",
       "4                                          50 States        168532   \n",
       "\n",
       "  endPosition     normCite         citeType      altCite pinCiteStr  \\\n",
       "0      117903   10 usc 816              USC          NaN        NaN   \n",
       "1      133132   7 usc 2257              USC   7 usc 2257        NaN   \n",
       "2      133820    2 usc 633              USC    2 usc 633        NaN   \n",
       "3       39099  50 usc 1885              USC  50 usc 1885        NaN   \n",
       "4      168541   50 stat es  StatutesAtLarge          NaN        NaN   \n",
       "\n",
       "  pageRangeStr nodeId     section sectionAndSubSection isShortCite chunk_id  \\\n",
       "0          NaN      0  10 USC 816           10 USC 816       False        2   \n",
       "1          NaN      0         NaN                  NaN       False      NaN   \n",
       "2          NaN      0         NaN                  NaN       False        0   \n",
       "3          NaN      0         NaN                  NaN       False      NaN   \n",
       "4          NaN      0         NaN                  NaN       FALSE       15   \n",
       "\n",
       "                                             context  \n",
       "0  <subparagraph display-inline=\"no-display-inlin...  \n",
       "1  None of the funds appropriated by this or any ...  \n",
       "2  Res. 71 (115th Congress). (3) Classification o...  \n",
       "3  Accountability procedures for incidents relati...  \n",
       "4  (7) Optional product or service The term optio...  "
      ],
      "text/html": [
       "<div>\n",
       "<style scoped>\n",
       "    .dataframe tbody tr th:only-of-type {\n",
       "        vertical-align: middle;\n",
       "    }\n",
       "\n",
       "    .dataframe tbody tr th {\n",
       "        vertical-align: top;\n",
       "    }\n",
       "\n",
       "    .dataframe thead th {\n",
       "        text-align: right;\n",
       "    }\n",
       "</style>\n",
       "<table border=\"1\" class=\"dataframe\">\n",
       "  <thead>\n",
       "    <tr style=\"text-align: right;\">\n",
       "      <th></th>\n",
       "      <th>text</th>\n",
       "      <th>startPosition</th>\n",
       "      <th>endPosition</th>\n",
       "      <th>normCite</th>\n",
       "      <th>citeType</th>\n",
       "      <th>altCite</th>\n",
       "      <th>pinCiteStr</th>\n",
       "      <th>pageRangeStr</th>\n",
       "      <th>nodeId</th>\n",
       "      <th>section</th>\n",
       "      <th>sectionAndSubSection</th>\n",
       "      <th>isShortCite</th>\n",
       "      <th>chunk_id</th>\n",
       "      <th>context</th>\n",
       "    </tr>\n",
       "  </thead>\n",
       "  <tbody>\n",
       "    <tr>\n",
       "      <th>0</th>\n",
       "      <td>10 USC 816</td>\n",
       "      <td>117893</td>\n",
       "      <td>117903</td>\n",
       "      <td>10 usc 816</td>\n",
       "      <td>USC</td>\n",
       "      <td>NaN</td>\n",
       "      <td>NaN</td>\n",
       "      <td>NaN</td>\n",
       "      <td>0</td>\n",
       "      <td>10 USC 816</td>\n",
       "      <td>10 USC 816</td>\n",
       "      <td>False</td>\n",
       "      <td>2</td>\n",
       "      <td>&lt;subparagraph display-inline=\"no-display-inlin...</td>\n",
       "    </tr>\n",
       "    <tr>\n",
       "      <th>1</th>\n",
       "      <td>section 702(b) of the Department of Agricultur...</td>\n",
       "      <td>133065</td>\n",
       "      <td>133132</td>\n",
       "      <td>7 usc 2257</td>\n",
       "      <td>USC</td>\n",
       "      <td>7 usc 2257</td>\n",
       "      <td>NaN</td>\n",
       "      <td>NaN</td>\n",
       "      <td>0</td>\n",
       "      <td>NaN</td>\n",
       "      <td>NaN</td>\n",
       "      <td>False</td>\n",
       "      <td>NaN</td>\n",
       "      <td>None of the funds appropriated by this or any ...</td>\n",
       "    </tr>\n",
       "    <tr>\n",
       "      <th>2</th>\n",
       "      <td>section 302(a) of the Congressional Budget Act...</td>\n",
       "      <td>133766</td>\n",
       "      <td>133820</td>\n",
       "      <td>2 usc 633</td>\n",
       "      <td>USC</td>\n",
       "      <td>2 usc 633</td>\n",
       "      <td>NaN</td>\n",
       "      <td>NaN</td>\n",
       "      <td>0</td>\n",
       "      <td>NaN</td>\n",
       "      <td>NaN</td>\n",
       "      <td>False</td>\n",
       "      <td>0</td>\n",
       "      <td>Res. 71 (115th Congress). (3) Classification o...</td>\n",
       "    </tr>\n",
       "    <tr>\n",
       "      <th>3</th>\n",
       "      <td>section 801 of the Foreign Intelligence Survei...</td>\n",
       "      <td>39035</td>\n",
       "      <td>39099</td>\n",
       "      <td>50 usc 1885</td>\n",
       "      <td>USC</td>\n",
       "      <td>50 usc 1885</td>\n",
       "      <td>NaN</td>\n",
       "      <td>NaN</td>\n",
       "      <td>0</td>\n",
       "      <td>NaN</td>\n",
       "      <td>NaN</td>\n",
       "      <td>False</td>\n",
       "      <td>NaN</td>\n",
       "      <td>Accountability procedures for incidents relati...</td>\n",
       "    </tr>\n",
       "    <tr>\n",
       "      <th>4</th>\n",
       "      <td>50 States</td>\n",
       "      <td>168532</td>\n",
       "      <td>168541</td>\n",
       "      <td>50 stat es</td>\n",
       "      <td>StatutesAtLarge</td>\n",
       "      <td>NaN</td>\n",
       "      <td>NaN</td>\n",
       "      <td>NaN</td>\n",
       "      <td>0</td>\n",
       "      <td>NaN</td>\n",
       "      <td>NaN</td>\n",
       "      <td>FALSE</td>\n",
       "      <td>15</td>\n",
       "      <td>(7) Optional product or service The term optio...</td>\n",
       "    </tr>\n",
       "  </tbody>\n",
       "</table>\n",
       "</div>"
      ]
     },
     "execution_count": 5,
     "metadata": {},
     "output_type": "execute_result"
    }
   ],
   "execution_count": 5
  },
  {
   "metadata": {
    "ExecuteTime": {
     "end_time": "2025-04-13T01:10:05.074449Z",
     "start_time": "2025-04-13T01:10:05.067378Z"
    }
   },
   "cell_type": "code",
   "source": "holdout_df.info()",
   "id": "2cd9b15316a1e214",
   "outputs": [
    {
     "name": "stdout",
     "output_type": "stream",
     "text": [
      "<class 'pandas.core.frame.DataFrame'>\n",
      "RangeIndex: 7122 entries, 0 to 7121\n",
      "Data columns (total 14 columns):\n",
      " #   Column                Non-Null Count  Dtype \n",
      "---  ------                --------------  ----- \n",
      " 0   text                  7118 non-null   object\n",
      " 1   startPosition         7118 non-null   object\n",
      " 2   endPosition           7118 non-null   object\n",
      " 3   normCite              7118 non-null   object\n",
      " 4   citeType              6980 non-null   object\n",
      " 5   altCite               1540 non-null   object\n",
      " 6   pinCiteStr            3 non-null      object\n",
      " 7   pageRangeStr          3 non-null      object\n",
      " 8   nodeId                7118 non-null   object\n",
      " 9   section               5022 non-null   object\n",
      " 10  sectionAndSubSection  5022 non-null   object\n",
      " 11  isShortCite           7118 non-null   object\n",
      " 12  chunk_id              4795 non-null   object\n",
      " 13  context               7118 non-null   object\n",
      "dtypes: object(14)\n",
      "memory usage: 779.1+ KB\n"
     ]
    }
   ],
   "execution_count": 6
  },
  {
   "metadata": {
    "ExecuteTime": {
     "end_time": "2025-04-13T01:10:07.641237Z",
     "start_time": "2025-04-13T01:10:07.638236Z"
    }
   },
   "cell_type": "code",
   "source": [
    "def clean_empty_fields(df):\n",
    "    df = df.fillna(\"None\")\n",
    "    object_cols = df.select_dtypes(include='object').columns\n",
    "    for col in object_cols:\n",
    "        df[col] = df[col].replace(r'^\\s*$', \"None\", regex=True)\n",
    "    return df"
   ],
   "id": "2625044e65983f2f",
   "outputs": [],
   "execution_count": 7
  },
  {
   "metadata": {
    "ExecuteTime": {
     "end_time": "2025-04-13T01:10:08.763651Z",
     "start_time": "2025-04-13T01:10:08.742300Z"
    }
   },
   "cell_type": "code",
   "source": "annotate_df = clean_empty_fields(annotate_df)",
   "id": "812d1f8911823a5d",
   "outputs": [],
   "execution_count": 8
  },
  {
   "metadata": {
    "ExecuteTime": {
     "end_time": "2025-04-13T01:10:09.790016Z",
     "start_time": "2025-04-13T01:10:09.783920Z"
    }
   },
   "cell_type": "code",
   "source": "annotate_df.info()",
   "id": "d630cd9f5e909a1b",
   "outputs": [
    {
     "name": "stdout",
     "output_type": "stream",
     "text": [
      "<class 'pandas.core.frame.DataFrame'>\n",
      "RangeIndex: 2353 entries, 0 to 2352\n",
      "Data columns (total 15 columns):\n",
      " #   Column                Non-Null Count  Dtype \n",
      "---  ------                --------------  ----- \n",
      " 0   text                  2353 non-null   object\n",
      " 1   startPosition         2353 non-null   object\n",
      " 2   endPosition           2353 non-null   object\n",
      " 3   normCite              2353 non-null   object\n",
      " 4   citeType              2353 non-null   object\n",
      " 5   altCite               2353 non-null   object\n",
      " 6   pinCiteStr            2353 non-null   object\n",
      " 7   pageRangeStr          2353 non-null   object\n",
      " 8   nodeId                2353 non-null   object\n",
      " 9   section               2353 non-null   object\n",
      " 10  sectionAndSubSection  2353 non-null   object\n",
      " 11  isShortCite           2353 non-null   object\n",
      " 12  chunk_id              2353 non-null   object\n",
      " 13  context               2353 non-null   object\n",
      " 14  label                 2353 non-null   object\n",
      "dtypes: object(15)\n",
      "memory usage: 275.9+ KB\n"
     ]
    }
   ],
   "execution_count": 9
  },
  {
   "metadata": {
    "ExecuteTime": {
     "end_time": "2025-04-13T01:10:11.965426Z",
     "start_time": "2025-04-13T01:10:11.924947Z"
    }
   },
   "cell_type": "code",
   "source": "holdout_df = clean_empty_fields(holdout_df)",
   "id": "fcf6164a548319e3",
   "outputs": [],
   "execution_count": 10
  },
  {
   "metadata": {
    "ExecuteTime": {
     "end_time": "2025-04-13T01:10:12.985648Z",
     "start_time": "2025-04-13T01:10:12.978207Z"
    }
   },
   "cell_type": "code",
   "source": "holdout_df.info()",
   "id": "16348b856cea2b7a",
   "outputs": [
    {
     "name": "stdout",
     "output_type": "stream",
     "text": [
      "<class 'pandas.core.frame.DataFrame'>\n",
      "RangeIndex: 7122 entries, 0 to 7121\n",
      "Data columns (total 14 columns):\n",
      " #   Column                Non-Null Count  Dtype \n",
      "---  ------                --------------  ----- \n",
      " 0   text                  7122 non-null   object\n",
      " 1   startPosition         7122 non-null   object\n",
      " 2   endPosition           7122 non-null   object\n",
      " 3   normCite              7122 non-null   object\n",
      " 4   citeType              7122 non-null   object\n",
      " 5   altCite               7122 non-null   object\n",
      " 6   pinCiteStr            7122 non-null   object\n",
      " 7   pageRangeStr          7122 non-null   object\n",
      " 8   nodeId                7122 non-null   object\n",
      " 9   section               7122 non-null   object\n",
      " 10  sectionAndSubSection  7122 non-null   object\n",
      " 11  isShortCite           7122 non-null   object\n",
      " 12  chunk_id              7122 non-null   object\n",
      " 13  context               7122 non-null   object\n",
      "dtypes: object(14)\n",
      "memory usage: 779.1+ KB\n"
     ]
    }
   ],
   "execution_count": 11
  },
  {
   "metadata": {
    "ExecuteTime": {
     "end_time": "2025-04-13T01:10:14.927704Z",
     "start_time": "2025-04-13T01:10:14.776259Z"
    }
   },
   "cell_type": "code",
   "source": [
    "device = torch.device(\"cuda\" if torch.cuda.is_available() else \"cpu\")\n",
    "print(\"Using device:\", device)"
   ],
   "id": "dfb3b7151f71c15a",
   "outputs": [
    {
     "name": "stdout",
     "output_type": "stream",
     "text": [
      "Using device: cuda\n"
     ]
    }
   ],
   "execution_count": 12
  },
  {
   "metadata": {
    "ExecuteTime": {
     "end_time": "2025-04-13T01:10:20.861037Z",
     "start_time": "2025-04-13T01:10:20.856132Z"
    }
   },
   "cell_type": "code",
   "source": [
    "label_encoder = LabelEncoder()\n",
    "annotate_df[\"encoded_label\"] = label_encoder.fit_transform(annotate_df[\"label\"])\n",
    "num_labels = len(label_encoder.classes_)\n",
    "print(\"Number of unique labels:\", num_labels)"
   ],
   "id": "2da02ba1dc9b1dde",
   "outputs": [
    {
     "name": "stdout",
     "output_type": "stream",
     "text": [
      "Number of unique labels: 6\n"
     ]
    }
   ],
   "execution_count": 13
  },
  {
   "metadata": {
    "ExecuteTime": {
     "end_time": "2025-04-13T01:10:22.009673Z",
     "start_time": "2025-04-13T01:10:22.006672Z"
    }
   },
   "cell_type": "code",
   "source": [
    "label_mapping = dict(zip(label_encoder.classes_, label_encoder.transform(label_encoder.classes_)))\n",
    "print(\"Label to Number Mapping:\\n\", label_mapping)"
   ],
   "id": "b80a6a61e347b20",
   "outputs": [
    {
     "name": "stdout",
     "output_type": "stream",
     "text": [
      "Label to Number Mapping:\n",
      " {'Amending': 0, 'Authority': 1, 'Definition': 2, 'Exception': 3, 'Precedent': 4, 'Rescinding': 5}\n"
     ]
    }
   ],
   "execution_count": 14
  },
  {
   "metadata": {
    "ExecuteTime": {
     "end_time": "2025-04-13T01:10:24.352077Z",
     "start_time": "2025-04-13T01:10:24.344754Z"
    }
   },
   "cell_type": "code",
   "source": "annotate_df.info()",
   "id": "4bfb3e775e775bd8",
   "outputs": [
    {
     "name": "stdout",
     "output_type": "stream",
     "text": [
      "<class 'pandas.core.frame.DataFrame'>\n",
      "RangeIndex: 2353 entries, 0 to 2352\n",
      "Data columns (total 16 columns):\n",
      " #   Column                Non-Null Count  Dtype \n",
      "---  ------                --------------  ----- \n",
      " 0   text                  2353 non-null   object\n",
      " 1   startPosition         2353 non-null   object\n",
      " 2   endPosition           2353 non-null   object\n",
      " 3   normCite              2353 non-null   object\n",
      " 4   citeType              2353 non-null   object\n",
      " 5   altCite               2353 non-null   object\n",
      " 6   pinCiteStr            2353 non-null   object\n",
      " 7   pageRangeStr          2353 non-null   object\n",
      " 8   nodeId                2353 non-null   object\n",
      " 9   section               2353 non-null   object\n",
      " 10  sectionAndSubSection  2353 non-null   object\n",
      " 11  isShortCite           2353 non-null   object\n",
      " 12  chunk_id              2353 non-null   object\n",
      " 13  context               2353 non-null   object\n",
      " 14  label                 2353 non-null   object\n",
      " 15  encoded_label         2353 non-null   int32 \n",
      "dtypes: int32(1), object(15)\n",
      "memory usage: 285.1+ KB\n"
     ]
    }
   ],
   "execution_count": 15
  },
  {
   "metadata": {
    "ExecuteTime": {
     "end_time": "2025-04-13T01:10:26.485034Z",
     "start_time": "2025-04-13T01:10:26.480910Z"
    }
   },
   "cell_type": "code",
   "source": "annotate_df.rename(columns={\"label\": \"original_label\", \"encoded_label\": \"label\"}, inplace=True)",
   "id": "4bd715a54d5c8431",
   "outputs": [],
   "execution_count": 16
  },
  {
   "metadata": {
    "ExecuteTime": {
     "end_time": "2025-04-13T01:10:27.291530Z",
     "start_time": "2025-04-13T01:10:27.283343Z"
    }
   },
   "cell_type": "code",
   "source": "annotate_df.info()",
   "id": "9aa9b0a8e6ba97",
   "outputs": [
    {
     "name": "stdout",
     "output_type": "stream",
     "text": [
      "<class 'pandas.core.frame.DataFrame'>\n",
      "RangeIndex: 2353 entries, 0 to 2352\n",
      "Data columns (total 16 columns):\n",
      " #   Column                Non-Null Count  Dtype \n",
      "---  ------                --------------  ----- \n",
      " 0   text                  2353 non-null   object\n",
      " 1   startPosition         2353 non-null   object\n",
      " 2   endPosition           2353 non-null   object\n",
      " 3   normCite              2353 non-null   object\n",
      " 4   citeType              2353 non-null   object\n",
      " 5   altCite               2353 non-null   object\n",
      " 6   pinCiteStr            2353 non-null   object\n",
      " 7   pageRangeStr          2353 non-null   object\n",
      " 8   nodeId                2353 non-null   object\n",
      " 9   section               2353 non-null   object\n",
      " 10  sectionAndSubSection  2353 non-null   object\n",
      " 11  isShortCite           2353 non-null   object\n",
      " 12  chunk_id              2353 non-null   object\n",
      " 13  context               2353 non-null   object\n",
      " 14  original_label        2353 non-null   object\n",
      " 15  label                 2353 non-null   int32 \n",
      "dtypes: int32(1), object(15)\n",
      "memory usage: 285.1+ KB\n"
     ]
    }
   ],
   "execution_count": 17
  },
  {
   "metadata": {
    "ExecuteTime": {
     "end_time": "2025-04-13T01:10:30.395449Z",
     "start_time": "2025-04-13T01:10:29.675303Z"
    }
   },
   "cell_type": "code",
   "source": [
    "model_name = \"saibo/legal-roberta-base\"\n",
    "tokenizer = AutoTokenizer.from_pretrained(model_name)"
   ],
   "id": "e8c0a6324111ce2e",
   "outputs": [],
   "execution_count": 18
  },
  {
   "metadata": {
    "ExecuteTime": {
     "end_time": "2025-04-13T01:10:40.184074Z",
     "start_time": "2025-04-13T01:10:40.163484Z"
    }
   },
   "cell_type": "code",
   "source": [
    "annotate_df[\"input_text\"] = annotate_df[\"text\"].fillna(\"None\") + \" [SEP] \" + annotate_df[\"context\"].fillna(\"None\")\n",
    "holdout_df[\"input_text\"] = holdout_df[\"text\"].fillna(\"None\") + \" [SEP] \" + holdout_df[\"context\"].fillna(\"None\")"
   ],
   "id": "346ef56944b0e0d4",
   "outputs": [],
   "execution_count": 19
  },
  {
   "metadata": {
    "ExecuteTime": {
     "end_time": "2025-04-13T01:10:48.591404Z",
     "start_time": "2025-04-13T01:10:48.588538Z"
    }
   },
   "cell_type": "code",
   "source": [
    "def tokenize_function(examples):\n",
    "    return tokenizer(examples[\"input_text\"], padding=\"max_length\", truncation=True, max_length=512)"
   ],
   "id": "a2db3ec6c2adf314",
   "outputs": [],
   "execution_count": 20
  },
  {
   "metadata": {
    "ExecuteTime": {
     "end_time": "2025-04-13T01:11:01.117909Z",
     "start_time": "2025-04-13T01:11:01.007675Z"
    }
   },
   "cell_type": "code",
   "source": [
    "train_dataset = Dataset.from_pandas(annotate_df[[\"input_text\", \"label\"]])\n",
    "test_dataset = Dataset.from_pandas(holdout_df[[\"input_text\"]])"
   ],
   "id": "43087b9e671bd816",
   "outputs": [],
   "execution_count": 21
  },
  {
   "metadata": {
    "ExecuteTime": {
     "end_time": "2025-04-13T01:12:21.555548Z",
     "start_time": "2025-04-13T01:12:21.057720Z"
    }
   },
   "cell_type": "code",
   "source": [
    "tokenized_train = train_dataset.map(tokenize_function, batched=True)\n",
    "tokenized_train = tokenized_train.remove_columns([\"input_text\"])\n",
    "tokenized_train = tokenized_train.rename_column(\"label\", \"labels\")\n",
    "tokenized_train.set_format(\"torch\")"
   ],
   "id": "29fad226a8fd0da",
   "outputs": [
    {
     "data": {
      "text/plain": [
       "Map:   0%|          | 0/2353 [00:00<?, ? examples/s]"
      ],
      "application/vnd.jupyter.widget-view+json": {
       "version_major": 2,
       "version_minor": 0,
       "model_id": "22052591705540b8b4c467d07be4f6dc"
      }
     },
     "metadata": {},
     "output_type": "display_data"
    }
   ],
   "execution_count": 23
  },
  {
   "metadata": {
    "ExecuteTime": {
     "end_time": "2025-04-13T01:12:33.807668Z",
     "start_time": "2025-04-13T01:12:32.371964Z"
    }
   },
   "cell_type": "code",
   "source": [
    "tokenized_test = test_dataset.map(tokenize_function, batched=True)\n",
    "tokenized_test = tokenized_test.remove_columns([\"input_text\"])\n",
    "tokenized_test.set_format(\"torch\")"
   ],
   "id": "b315c49fb3d378cf",
   "outputs": [
    {
     "data": {
      "text/plain": [
       "Map:   0%|          | 0/7122 [00:00<?, ? examples/s]"
      ],
      "application/vnd.jupyter.widget-view+json": {
       "version_major": 2,
       "version_minor": 0,
       "model_id": "fd462ba39feb4409b577201b9c04e496"
      }
     },
     "metadata": {},
     "output_type": "display_data"
    }
   ],
   "execution_count": 24
  },
  {
   "metadata": {
    "ExecuteTime": {
     "end_time": "2025-04-13T01:12:42.768567Z",
     "start_time": "2025-04-13T01:12:40.159263Z"
    }
   },
   "cell_type": "code",
   "source": [
    "model = AutoModelForSequenceClassification.from_pretrained(model_name, num_labels=num_labels)\n",
    "model.to(\"cuda\")"
   ],
   "id": "f1fa95d9056d3edd",
   "outputs": [
    {
     "name": "stderr",
     "output_type": "stream",
     "text": [
      "Some weights of RobertaForSequenceClassification were not initialized from the model checkpoint at saibo/legal-roberta-base and are newly initialized: ['classifier.dense.bias', 'classifier.dense.weight', 'classifier.out_proj.bias', 'classifier.out_proj.weight']\n",
      "You should probably TRAIN this model on a down-stream task to be able to use it for predictions and inference.\n"
     ]
    },
    {
     "data": {
      "text/plain": [
       "RobertaForSequenceClassification(\n",
       "  (roberta): RobertaModel(\n",
       "    (embeddings): RobertaEmbeddings(\n",
       "      (word_embeddings): Embedding(50265, 768, padding_idx=1)\n",
       "      (position_embeddings): Embedding(514, 768, padding_idx=1)\n",
       "      (token_type_embeddings): Embedding(1, 768)\n",
       "      (LayerNorm): LayerNorm((768,), eps=1e-05, elementwise_affine=True)\n",
       "      (dropout): Dropout(p=0.1, inplace=False)\n",
       "    )\n",
       "    (encoder): RobertaEncoder(\n",
       "      (layer): ModuleList(\n",
       "        (0-11): 12 x RobertaLayer(\n",
       "          (attention): RobertaAttention(\n",
       "            (self): RobertaSelfAttention(\n",
       "              (query): Linear(in_features=768, out_features=768, bias=True)\n",
       "              (key): Linear(in_features=768, out_features=768, bias=True)\n",
       "              (value): Linear(in_features=768, out_features=768, bias=True)\n",
       "              (dropout): Dropout(p=0.1, inplace=False)\n",
       "            )\n",
       "            (output): RobertaSelfOutput(\n",
       "              (dense): Linear(in_features=768, out_features=768, bias=True)\n",
       "              (LayerNorm): LayerNorm((768,), eps=1e-05, elementwise_affine=True)\n",
       "              (dropout): Dropout(p=0.1, inplace=False)\n",
       "            )\n",
       "          )\n",
       "          (intermediate): RobertaIntermediate(\n",
       "            (dense): Linear(in_features=768, out_features=3072, bias=True)\n",
       "            (intermediate_act_fn): GELUActivation()\n",
       "          )\n",
       "          (output): RobertaOutput(\n",
       "            (dense): Linear(in_features=3072, out_features=768, bias=True)\n",
       "            (LayerNorm): LayerNorm((768,), eps=1e-05, elementwise_affine=True)\n",
       "            (dropout): Dropout(p=0.1, inplace=False)\n",
       "          )\n",
       "        )\n",
       "      )\n",
       "    )\n",
       "  )\n",
       "  (classifier): RobertaClassificationHead(\n",
       "    (dense): Linear(in_features=768, out_features=768, bias=True)\n",
       "    (dropout): Dropout(p=0.1, inplace=False)\n",
       "    (out_proj): Linear(in_features=768, out_features=6, bias=True)\n",
       "  )\n",
       ")"
      ]
     },
     "execution_count": 25,
     "metadata": {},
     "output_type": "execute_result"
    }
   ],
   "execution_count": 25
  },
  {
   "metadata": {
    "ExecuteTime": {
     "end_time": "2025-04-13T01:12:53.157589Z",
     "start_time": "2025-04-13T01:12:53.081953Z"
    }
   },
   "cell_type": "code",
   "source": [
    "training_args = TrainingArguments(\n",
    "    output_dir=\"./legal_model\",\n",
    "    evaluation_strategy=\"no\",\n",
    "    save_strategy=\"epoch\",\n",
    "    per_device_train_batch_size=8,\n",
    "    num_train_epochs=5,\n",
    "    logging_dir=\"./logs\",\n",
    "    load_best_model_at_end=False,\n",
    ")"
   ],
   "id": "e7b9fb770d80a259",
   "outputs": [],
   "execution_count": 26
  },
  {
   "metadata": {
    "ExecuteTime": {
     "end_time": "2025-04-13T01:13:02.322575Z",
     "start_time": "2025-04-13T01:13:02.203446Z"
    }
   },
   "cell_type": "code",
   "source": [
    "trainer = Trainer(\n",
    "    model=model,\n",
    "    args=training_args,\n",
    "    train_dataset=tokenized_train,\n",
    "    tokenizer=tokenizer,\n",
    ")"
   ],
   "id": "22ed82c4754d7697",
   "outputs": [],
   "execution_count": 27
  },
  {
   "metadata": {
    "ExecuteTime": {
     "end_time": "2025-04-13T01:45:11.203970Z",
     "start_time": "2025-04-13T01:13:04.013935Z"
    }
   },
   "cell_type": "code",
   "source": "trainer.train()",
   "id": "3222ca402c316519",
   "outputs": [
    {
     "data": {
      "text/plain": [
       "<IPython.core.display.HTML object>"
      ],
      "text/html": [
       "\n",
       "    <div>\n",
       "      \n",
       "      <progress value='1475' max='1475' style='width:300px; height:20px; vertical-align: middle;'></progress>\n",
       "      [1475/1475 32:01, Epoch 5/5]\n",
       "    </div>\n",
       "    <table border=\"1\" class=\"dataframe\">\n",
       "  <thead>\n",
       " <tr style=\"text-align: left;\">\n",
       "      <th>Step</th>\n",
       "      <th>Training Loss</th>\n",
       "    </tr>\n",
       "  </thead>\n",
       "  <tbody>\n",
       "    <tr>\n",
       "      <td>500</td>\n",
       "      <td>0.386700</td>\n",
       "    </tr>\n",
       "    <tr>\n",
       "      <td>1000</td>\n",
       "      <td>0.245600</td>\n",
       "    </tr>\n",
       "  </tbody>\n",
       "</table><p>"
      ]
     },
     "metadata": {},
     "output_type": "display_data"
    },
    {
     "data": {
      "text/plain": [
       "TrainOutput(global_step=1475, training_loss=0.27415310617220606, metrics={'train_runtime': 1925.276, 'train_samples_per_second': 6.111, 'train_steps_per_second': 0.766, 'total_flos': 3095612739348480.0, 'train_loss': 0.27415310617220606, 'epoch': 5.0})"
      ]
     },
     "execution_count": 28,
     "metadata": {},
     "output_type": "execute_result"
    }
   ],
   "execution_count": 28
  },
  {
   "metadata": {
    "ExecuteTime": {
     "end_time": "2025-04-13T01:50:12.304217Z",
     "start_time": "2025-04-13T01:48:21.587600Z"
    }
   },
   "cell_type": "code",
   "source": "predictions = trainer.predict(tokenized_test)",
   "id": "78e07556971e6a23",
   "outputs": [
    {
     "data": {
      "text/plain": [
       "<IPython.core.display.HTML object>"
      ],
      "text/html": []
     },
     "metadata": {},
     "output_type": "display_data"
    }
   ],
   "execution_count": 29
  },
  {
   "metadata": {
    "ExecuteTime": {
     "end_time": "2025-04-13T01:50:14.973162Z",
     "start_time": "2025-04-13T01:50:14.965462Z"
    }
   },
   "cell_type": "code",
   "source": "predicted_label_ids = predictions.predictions.argmax(axis=-1)",
   "id": "7b37714398eadf38",
   "outputs": [],
   "execution_count": 30
  },
  {
   "metadata": {
    "ExecuteTime": {
     "end_time": "2025-04-13T01:50:16.120518Z",
     "start_time": "2025-04-13T01:50:16.088216Z"
    }
   },
   "cell_type": "code",
   "source": "predicted_labels = label_encoder.inverse_transform(predicted_label_ids)",
   "id": "ae9f4ccf7f153311",
   "outputs": [],
   "execution_count": 31
  },
  {
   "metadata": {
    "ExecuteTime": {
     "end_time": "2025-04-13T01:50:17.216101Z",
     "start_time": "2025-04-13T01:50:17.189176Z"
    }
   },
   "cell_type": "code",
   "source": "holdout_df[\"original_label\"] = predicted_labels",
   "id": "30442fa11f81f279",
   "outputs": [],
   "execution_count": 32
  },
  {
   "metadata": {
    "ExecuteTime": {
     "end_time": "2025-04-13T01:50:18.251076Z",
     "start_time": "2025-04-13T01:50:18.227238Z"
    }
   },
   "cell_type": "code",
   "source": "holdout_df[\"original_label\"].value_counts()",
   "id": "797526ad19d81c6",
   "outputs": [
    {
     "data": {
      "text/plain": [
       "original_label\n",
       "Authority     5494\n",
       "Amending       998\n",
       "Definition     630\n",
       "Name: count, dtype: int64"
      ]
     },
     "execution_count": 33,
     "metadata": {},
     "output_type": "execute_result"
    }
   ],
   "execution_count": 33
  },
  {
   "metadata": {
    "ExecuteTime": {
     "end_time": "2025-04-13T01:50:34.426200Z",
     "start_time": "2025-04-13T01:50:34.261953Z"
    }
   },
   "cell_type": "code",
   "source": "holdout_df.info()",
   "id": "8b9897ceae549e0c",
   "outputs": [
    {
     "name": "stdout",
     "output_type": "stream",
     "text": [
      "<class 'pandas.core.frame.DataFrame'>\n",
      "RangeIndex: 7122 entries, 0 to 7121\n",
      "Data columns (total 16 columns):\n",
      " #   Column                Non-Null Count  Dtype \n",
      "---  ------                --------------  ----- \n",
      " 0   text                  7122 non-null   object\n",
      " 1   startPosition         7122 non-null   object\n",
      " 2   endPosition           7122 non-null   object\n",
      " 3   normCite              7122 non-null   object\n",
      " 4   citeType              7122 non-null   object\n",
      " 5   altCite               7122 non-null   object\n",
      " 6   pinCiteStr            7122 non-null   object\n",
      " 7   pageRangeStr          7122 non-null   object\n",
      " 8   nodeId                7122 non-null   object\n",
      " 9   section               7122 non-null   object\n",
      " 10  sectionAndSubSection  7122 non-null   object\n",
      " 11  isShortCite           7122 non-null   object\n",
      " 12  chunk_id              7122 non-null   object\n",
      " 13  context               7122 non-null   object\n",
      " 14  input_text            7122 non-null   object\n",
      " 15  original_label        7122 non-null   object\n",
      "dtypes: object(16)\n",
      "memory usage: 890.4+ KB\n"
     ]
    }
   ],
   "execution_count": 34
  },
  {
   "metadata": {
    "ExecuteTime": {
     "end_time": "2025-04-13T01:51:47.644517Z",
     "start_time": "2025-04-13T01:51:47.569194Z"
    }
   },
   "cell_type": "code",
   "source": "holdout_df.drop(columns=[\"input_text\"], inplace=True)",
   "id": "1cd883596fc78269",
   "outputs": [],
   "execution_count": 36
  },
  {
   "metadata": {
    "ExecuteTime": {
     "end_time": "2025-04-13T01:50:58.628830Z",
     "start_time": "2025-04-13T01:50:58.579051Z"
    }
   },
   "cell_type": "code",
   "source": "annotate_df.info()",
   "id": "aef7a134cf923f5b",
   "outputs": [
    {
     "name": "stdout",
     "output_type": "stream",
     "text": [
      "<class 'pandas.core.frame.DataFrame'>\n",
      "RangeIndex: 2353 entries, 0 to 2352\n",
      "Data columns (total 17 columns):\n",
      " #   Column                Non-Null Count  Dtype \n",
      "---  ------                --------------  ----- \n",
      " 0   text                  2353 non-null   object\n",
      " 1   startPosition         2353 non-null   object\n",
      " 2   endPosition           2353 non-null   object\n",
      " 3   normCite              2353 non-null   object\n",
      " 4   citeType              2353 non-null   object\n",
      " 5   altCite               2353 non-null   object\n",
      " 6   pinCiteStr            2353 non-null   object\n",
      " 7   pageRangeStr          2353 non-null   object\n",
      " 8   nodeId                2353 non-null   object\n",
      " 9   section               2353 non-null   object\n",
      " 10  sectionAndSubSection  2353 non-null   object\n",
      " 11  isShortCite           2353 non-null   object\n",
      " 12  chunk_id              2353 non-null   object\n",
      " 13  context               2353 non-null   object\n",
      " 14  original_label        2353 non-null   object\n",
      " 15  label                 2353 non-null   int32 \n",
      " 16  input_text            2353 non-null   object\n",
      "dtypes: int32(1), object(16)\n",
      "memory usage: 303.4+ KB\n"
     ]
    }
   ],
   "execution_count": 35
  },
  {
   "metadata": {
    "ExecuteTime": {
     "end_time": "2025-04-13T01:52:46.806368Z",
     "start_time": "2025-04-13T01:52:46.790139Z"
    }
   },
   "cell_type": "code",
   "source": "annotate_df[[\"original_label\", \"label\"]].head(5)",
   "id": "a2d03d1ffca9a881",
   "outputs": [
    {
     "data": {
      "text/plain": [
       "  original_label  label\n",
       "0     Definition      2\n",
       "1     Definition      2\n",
       "2      Authority      1\n",
       "3       Amending      0\n",
       "4      Authority      1"
      ],
      "text/html": [
       "<div>\n",
       "<style scoped>\n",
       "    .dataframe tbody tr th:only-of-type {\n",
       "        vertical-align: middle;\n",
       "    }\n",
       "\n",
       "    .dataframe tbody tr th {\n",
       "        vertical-align: top;\n",
       "    }\n",
       "\n",
       "    .dataframe thead th {\n",
       "        text-align: right;\n",
       "    }\n",
       "</style>\n",
       "<table border=\"1\" class=\"dataframe\">\n",
       "  <thead>\n",
       "    <tr style=\"text-align: right;\">\n",
       "      <th></th>\n",
       "      <th>original_label</th>\n",
       "      <th>label</th>\n",
       "    </tr>\n",
       "  </thead>\n",
       "  <tbody>\n",
       "    <tr>\n",
       "      <th>0</th>\n",
       "      <td>Definition</td>\n",
       "      <td>2</td>\n",
       "    </tr>\n",
       "    <tr>\n",
       "      <th>1</th>\n",
       "      <td>Definition</td>\n",
       "      <td>2</td>\n",
       "    </tr>\n",
       "    <tr>\n",
       "      <th>2</th>\n",
       "      <td>Authority</td>\n",
       "      <td>1</td>\n",
       "    </tr>\n",
       "    <tr>\n",
       "      <th>3</th>\n",
       "      <td>Amending</td>\n",
       "      <td>0</td>\n",
       "    </tr>\n",
       "    <tr>\n",
       "      <th>4</th>\n",
       "      <td>Authority</td>\n",
       "      <td>1</td>\n",
       "    </tr>\n",
       "  </tbody>\n",
       "</table>\n",
       "</div>"
      ]
     },
     "execution_count": 37,
     "metadata": {},
     "output_type": "execute_result"
    }
   ],
   "execution_count": 37
  },
  {
   "metadata": {
    "ExecuteTime": {
     "end_time": "2025-04-13T01:53:28.033305Z",
     "start_time": "2025-04-13T01:53:28.007524Z"
    }
   },
   "cell_type": "code",
   "source": "annotate_df.drop(columns=[\"input_text\", \"label\"], inplace=True)",
   "id": "90a39b95d6b246c",
   "outputs": [],
   "execution_count": 39
  },
  {
   "metadata": {
    "ExecuteTime": {
     "end_time": "2025-04-13T01:53:42.013708Z",
     "start_time": "2025-04-13T01:53:41.998880Z"
    }
   },
   "cell_type": "code",
   "source": "annotate_df.columns",
   "id": "b662b2ea181d5963",
   "outputs": [
    {
     "data": {
      "text/plain": [
       "Index(['text', 'startPosition', 'endPosition', 'normCite', 'citeType',\n",
       "       'altCite', 'pinCiteStr', 'pageRangeStr', 'nodeId', 'section',\n",
       "       'sectionAndSubSection', 'isShortCite', 'chunk_id', 'context',\n",
       "       'original_label'],\n",
       "      dtype='object')"
      ]
     },
     "execution_count": 40,
     "metadata": {},
     "output_type": "execute_result"
    }
   ],
   "execution_count": 40
  },
  {
   "metadata": {
    "ExecuteTime": {
     "end_time": "2025-04-13T01:53:46.021516Z",
     "start_time": "2025-04-13T01:53:46.014312Z"
    }
   },
   "cell_type": "code",
   "source": "holdout_df.columns",
   "id": "3a9a751ab36c4b20",
   "outputs": [
    {
     "data": {
      "text/plain": [
       "Index(['text', 'startPosition', 'endPosition', 'normCite', 'citeType',\n",
       "       'altCite', 'pinCiteStr', 'pageRangeStr', 'nodeId', 'section',\n",
       "       'sectionAndSubSection', 'isShortCite', 'chunk_id', 'context',\n",
       "       'original_label'],\n",
       "      dtype='object')"
      ]
     },
     "execution_count": 41,
     "metadata": {},
     "output_type": "execute_result"
    }
   ],
   "execution_count": 41
  },
  {
   "metadata": {
    "ExecuteTime": {
     "end_time": "2025-04-13T01:53:55.778976Z",
     "start_time": "2025-04-13T01:53:55.771242Z"
    }
   },
   "cell_type": "code",
   "source": [
    "# DO both dataframes have the same columns?\n",
    "holdout_df.columns == annotate_df.columns"
   ],
   "id": "cd3c3dff2f858027",
   "outputs": [
    {
     "data": {
      "text/plain": [
       "array([ True,  True,  True,  True,  True,  True,  True,  True,  True,\n",
       "        True,  True,  True,  True,  True,  True])"
      ]
     },
     "execution_count": 42,
     "metadata": {},
     "output_type": "execute_result"
    }
   ],
   "execution_count": 42
  },
  {
   "metadata": {
    "ExecuteTime": {
     "end_time": "2025-04-13T01:54:11.960865Z",
     "start_time": "2025-04-13T01:54:11.947061Z"
    }
   },
   "cell_type": "code",
   "source": [
    "# Merge the two dataframes\n",
    "merged_df = pd.concat([annotate_df, holdout_df], ignore_index=True)"
   ],
   "id": "9c0525dc069575e4",
   "outputs": [],
   "execution_count": 43
  },
  {
   "metadata": {
    "ExecuteTime": {
     "end_time": "2025-04-13T01:54:24.877223Z",
     "start_time": "2025-04-13T01:54:24.860101Z"
    }
   },
   "cell_type": "code",
   "source": "merged_df.info()",
   "id": "7807867ee7b95072",
   "outputs": [
    {
     "name": "stdout",
     "output_type": "stream",
     "text": [
      "<class 'pandas.core.frame.DataFrame'>\n",
      "RangeIndex: 9475 entries, 0 to 9474\n",
      "Data columns (total 15 columns):\n",
      " #   Column                Non-Null Count  Dtype \n",
      "---  ------                --------------  ----- \n",
      " 0   text                  9475 non-null   object\n",
      " 1   startPosition         9475 non-null   object\n",
      " 2   endPosition           9475 non-null   object\n",
      " 3   normCite              9475 non-null   object\n",
      " 4   citeType              9475 non-null   object\n",
      " 5   altCite               9475 non-null   object\n",
      " 6   pinCiteStr            9475 non-null   object\n",
      " 7   pageRangeStr          9475 non-null   object\n",
      " 8   nodeId                9475 non-null   object\n",
      " 9   section               9475 non-null   object\n",
      " 10  sectionAndSubSection  9475 non-null   object\n",
      " 11  isShortCite           9475 non-null   object\n",
      " 12  chunk_id              9475 non-null   object\n",
      " 13  context               9475 non-null   object\n",
      " 14  original_label        9475 non-null   object\n",
      "dtypes: object(15)\n",
      "memory usage: 1.1+ MB\n"
     ]
    }
   ],
   "execution_count": 44
  },
  {
   "metadata": {
    "ExecuteTime": {
     "end_time": "2025-04-13T01:54:43.608860Z",
     "start_time": "2025-04-13T01:54:43.601450Z"
    }
   },
   "cell_type": "code",
   "source": "merged_df.head(5), merged_df.tail(5)",
   "id": "12e75a8b92f5a1f4",
   "outputs": [
    {
     "data": {
      "text/plain": [
       "(           text startPosition endPosition       normCite citeType altCite  \\\n",
       " 0       1 USC 1          3479        3486        1 usc 1      USC    None   \n",
       " 1  or direction        188589      188601  or dir ection     None    None   \n",
       " 2     42 U.S.C.        245062      245071         42 usc      USC    None   \n",
       " 3   19 USC 2434        110102      110113    19 usc 2434      USC    None   \n",
       " 4     2 FAM 154        343562      343571  [2] 1 fam 154       UK    None   \n",
       " \n",
       "   pinCiteStr pageRangeStr nodeId      section sectionAndSubSection  \\\n",
       " 0       None         None      0      1 USC 1              1 USC 1   \n",
       " 1       None         None      0         None                 None   \n",
       " 2       None         None      0   42 U.S.C.            42 U.S.C.    \n",
       " 3       None         None      0  19 USC 2434          19 USC 2434   \n",
       " 4       None         None      0         None                 None   \n",
       " \n",
       "   isShortCite chunk_id                                            context  \\\n",
       " 0       FALSE        0  Division A—Military Construction, Veterans Aff...   \n",
       " 1       False      9.0  16353(b)). <paragraph display-inline=\"no-displ...   \n",
       " 2       False        4  Domestic Food Programs Food and Nutrition Serv...   \n",
       " 3       False     16.0  4655)— <clause display-inline=\"no-display-inli...   \n",
       " 4       False     None  (d) None of the funds appropriated or otherwis...   \n",
       " \n",
       "   original_label  \n",
       " 0     Definition  \n",
       " 1     Definition  \n",
       " 2      Authority  \n",
       " 3       Amending  \n",
       " 4      Authority  ,\n",
       "                                                 text startPosition  \\\n",
       " 9470  Section 1860D–12(b) of the Social Security Act        254336   \n",
       " 9471                                           1455a        237801   \n",
       " 9472                                       12 U.S.C.        152971   \n",
       " 9473                                       29 U.S.C.         66687   \n",
       " 9474                                        23 or 49         28877   \n",
       " \n",
       "      endPosition          normCite              citeType            altCite  \\\n",
       " 9470      254382  42 usc 1395w-112                   USC   42 usc 1395w-112   \n",
       " 9471      237806      16 usc 1455a                   USC  16 U.S.C. § 1455a   \n",
       " 9472      152980            12 usc                   USC               None   \n",
       " 9473       66696            29 usc                   USC               None   \n",
       " 9474       28885      23 oregon 49  PrimaryStateReporter               None   \n",
       " \n",
       "      pinCiteStr pageRangeStr nodeId          section sectionAndSubSection  \\\n",
       " 9470       None         None      0             None                 None   \n",
       " 9471       None         None      0  16 U.S.C. 1455a      16 U.S.C. 1455a   \n",
       " 9472       None         None      0       12 U.S.C.            12 U.S.C.    \n",
       " 9473       None         None      0       29 U.S.C.            29 U.S.C.    \n",
       " 9474       None         None      0             None                 None   \n",
       " \n",
       "      isShortCite chunk_id                                            context  \\\n",
       " 9470       False        1  (2) Conforming amendment Section 1857(g)(1) of...   \n",
       " 9471       False      0.0  <section display-inline=\"no-display-inline\" id...   \n",
       " 9472       False     None  <subsection display-inline=\"no-display-inline\"...   \n",
       " 9473       False        3  ; (4) in subsection (g)— (A) in each of paragr...   \n",
       " 9474       False      8.0  applicable to land to which that Act otherwise...   \n",
       " \n",
       "      original_label  \n",
       " 9470       Amending  \n",
       " 9471      Authority  \n",
       " 9472      Authority  \n",
       " 9473       Amending  \n",
       " 9474      Authority  )"
      ]
     },
     "execution_count": 45,
     "metadata": {},
     "output_type": "execute_result"
    }
   ],
   "execution_count": 45
  },
  {
   "metadata": {
    "ExecuteTime": {
     "end_time": "2025-04-13T01:59:31.634669Z",
     "start_time": "2025-04-13T01:59:31.630852Z"
    }
   },
   "cell_type": "code",
   "source": "merged_df[\"original_label\"].value_counts()",
   "id": "12c6ce2fb80e51b7",
   "outputs": [
    {
     "data": {
      "text/plain": [
       "original_label\n",
       "Authority     7295\n",
       "Amending      1302\n",
       "Definition     855\n",
       "Rescinding      11\n",
       "Exception        7\n",
       "Precedent        5\n",
       "Name: count, dtype: int64"
      ]
     },
     "execution_count": 47,
     "metadata": {},
     "output_type": "execute_result"
    }
   ],
   "execution_count": 47
  },
  {
   "metadata": {
    "ExecuteTime": {
     "end_time": "2025-04-13T01:55:24.099480Z",
     "start_time": "2025-04-13T01:55:23.878470Z"
    }
   },
   "cell_type": "code",
   "source": [
    "# Save the merged dataframe to a CSV file\n",
    "merged_df.to_csv(\"Final_Citations_Label.csv\", index=False)"
   ],
   "id": "4191848a78f27b5a",
   "outputs": [],
   "execution_count": 46
  },
  {
   "metadata": {
    "ExecuteTime": {
     "end_time": "2025-04-13T03:19:39.902321Z",
     "start_time": "2025-04-13T03:19:36.503211Z"
    }
   },
   "cell_type": "code",
   "source": [
    "# Save the model and tokenizer\n",
    "model.save_pretrained(\"legal_model\")\n",
    "tokenizer.save_pretrained(\"legal_model\")"
   ],
   "id": "c0f997bb2f6d3592",
   "outputs": [
    {
     "data": {
      "text/plain": [
       "('legal_model\\\\tokenizer_config.json',\n",
       " 'legal_model\\\\special_tokens_map.json',\n",
       " 'legal_model\\\\vocab.json',\n",
       " 'legal_model\\\\merges.txt',\n",
       " 'legal_model\\\\added_tokens.json',\n",
       " 'legal_model\\\\tokenizer.json')"
      ]
     },
     "execution_count": 48,
     "metadata": {},
     "output_type": "execute_result"
    }
   ],
   "execution_count": 48
  }
 ],
 "metadata": {
  "kernelspec": {
   "display_name": "Python 3",
   "language": "python",
   "name": "python3"
  },
  "language_info": {
   "codemirror_mode": {
    "name": "ipython",
    "version": 2
   },
   "file_extension": ".py",
   "mimetype": "text/x-python",
   "name": "python",
   "nbconvert_exporter": "python",
   "pygments_lexer": "ipython2",
   "version": "2.7.6"
  }
 },
 "nbformat": 4,
 "nbformat_minor": 5
}
