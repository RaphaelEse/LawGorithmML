{
 "cells": [
  {
   "cell_type": "code",
   "id": "initial_id",
   "metadata": {
    "collapsed": true,
    "ExecuteTime": {
     "end_time": "2025-04-13T18:33:34.232994Z",
     "start_time": "2025-04-13T18:33:26.563792Z"
    }
   },
   "source": [
    "import pandas as pd\n",
    "from sklearn.model_selection import train_test_split\n",
    "from sklearn.preprocessing import LabelEncoder\n",
    "from transformers import AutoTokenizer, AutoModelForSequenceClassification, Trainer, TrainingArguments\n",
    "from datasets import Dataset\n",
    "import torch"
   ],
   "outputs": [],
   "execution_count": 13
  },
  {
   "metadata": {
    "ExecuteTime": {
     "end_time": "2025-04-13T18:28:43.559365Z",
     "start_time": "2025-04-13T18:28:43.241285Z"
    }
   },
   "cell_type": "code",
   "source": [
    "final_citation_df = pd.read_csv('Final_Citations_Labels_Smote.csv')\n",
    "final_citation_df.head(5)"
   ],
   "id": "59c8e8c85f5fce21",
   "outputs": [
    {
     "data": {
      "text/plain": [
       "           text startPosition endPosition       normCite citeType altCite  \\\n",
       "0       1 USC 1          3479        3486        1 usc 1      USC     NaN   \n",
       "1  or direction        188589      188601  or dir ection      NaN     NaN   \n",
       "2     42 U.S.C.        245062      245071         42 usc      USC     NaN   \n",
       "3   19 USC 2434        110102      110113    19 usc 2434      USC     NaN   \n",
       "4     2 FAM 154        343562      343571  [2] 1 fam 154       UK     NaN   \n",
       "\n",
       "  pinCiteStr pageRangeStr nodeId      section sectionAndSubSection  \\\n",
       "0        NaN          NaN      0      1 USC 1              1 USC 1   \n",
       "1        NaN          NaN      0          NaN                  NaN   \n",
       "2        NaN          NaN      0   42 U.S.C.            42 U.S.C.    \n",
       "3        NaN          NaN      0  19 USC 2434          19 USC 2434   \n",
       "4        NaN          NaN      0          NaN                  NaN   \n",
       "\n",
       "  isShortCite chunk_id                                            context  \\\n",
       "0       FALSE        0  Division A—Military Construction, Veterans Aff...   \n",
       "1       False      9.0  16353(b)). <paragraph display-inline=\"no-displ...   \n",
       "2       False        4  Domestic Food Programs Food and Nutrition Serv...   \n",
       "3       False     16.0  4655)— <clause display-inline=\"no-display-inli...   \n",
       "4       False      NaN  (d) None of the funds appropriated or otherwis...   \n",
       "\n",
       "  original_label  \n",
       "0     Definition  \n",
       "1     Definition  \n",
       "2      Authority  \n",
       "3       Amending  \n",
       "4      Authority  "
      ],
      "text/html": [
       "<div>\n",
       "<style scoped>\n",
       "    .dataframe tbody tr th:only-of-type {\n",
       "        vertical-align: middle;\n",
       "    }\n",
       "\n",
       "    .dataframe tbody tr th {\n",
       "        vertical-align: top;\n",
       "    }\n",
       "\n",
       "    .dataframe thead th {\n",
       "        text-align: right;\n",
       "    }\n",
       "</style>\n",
       "<table border=\"1\" class=\"dataframe\">\n",
       "  <thead>\n",
       "    <tr style=\"text-align: right;\">\n",
       "      <th></th>\n",
       "      <th>text</th>\n",
       "      <th>startPosition</th>\n",
       "      <th>endPosition</th>\n",
       "      <th>normCite</th>\n",
       "      <th>citeType</th>\n",
       "      <th>altCite</th>\n",
       "      <th>pinCiteStr</th>\n",
       "      <th>pageRangeStr</th>\n",
       "      <th>nodeId</th>\n",
       "      <th>section</th>\n",
       "      <th>sectionAndSubSection</th>\n",
       "      <th>isShortCite</th>\n",
       "      <th>chunk_id</th>\n",
       "      <th>context</th>\n",
       "      <th>original_label</th>\n",
       "    </tr>\n",
       "  </thead>\n",
       "  <tbody>\n",
       "    <tr>\n",
       "      <th>0</th>\n",
       "      <td>1 USC 1</td>\n",
       "      <td>3479</td>\n",
       "      <td>3486</td>\n",
       "      <td>1 usc 1</td>\n",
       "      <td>USC</td>\n",
       "      <td>NaN</td>\n",
       "      <td>NaN</td>\n",
       "      <td>NaN</td>\n",
       "      <td>0</td>\n",
       "      <td>1 USC 1</td>\n",
       "      <td>1 USC 1</td>\n",
       "      <td>FALSE</td>\n",
       "      <td>0</td>\n",
       "      <td>Division A—Military Construction, Veterans Aff...</td>\n",
       "      <td>Definition</td>\n",
       "    </tr>\n",
       "    <tr>\n",
       "      <th>1</th>\n",
       "      <td>or direction</td>\n",
       "      <td>188589</td>\n",
       "      <td>188601</td>\n",
       "      <td>or dir ection</td>\n",
       "      <td>NaN</td>\n",
       "      <td>NaN</td>\n",
       "      <td>NaN</td>\n",
       "      <td>NaN</td>\n",
       "      <td>0</td>\n",
       "      <td>NaN</td>\n",
       "      <td>NaN</td>\n",
       "      <td>False</td>\n",
       "      <td>9.0</td>\n",
       "      <td>16353(b)). &lt;paragraph display-inline=\"no-displ...</td>\n",
       "      <td>Definition</td>\n",
       "    </tr>\n",
       "    <tr>\n",
       "      <th>2</th>\n",
       "      <td>42 U.S.C.</td>\n",
       "      <td>245062</td>\n",
       "      <td>245071</td>\n",
       "      <td>42 usc</td>\n",
       "      <td>USC</td>\n",
       "      <td>NaN</td>\n",
       "      <td>NaN</td>\n",
       "      <td>NaN</td>\n",
       "      <td>0</td>\n",
       "      <td>42 U.S.C.</td>\n",
       "      <td>42 U.S.C.</td>\n",
       "      <td>False</td>\n",
       "      <td>4</td>\n",
       "      <td>Domestic Food Programs Food and Nutrition Serv...</td>\n",
       "      <td>Authority</td>\n",
       "    </tr>\n",
       "    <tr>\n",
       "      <th>3</th>\n",
       "      <td>19 USC 2434</td>\n",
       "      <td>110102</td>\n",
       "      <td>110113</td>\n",
       "      <td>19 usc 2434</td>\n",
       "      <td>USC</td>\n",
       "      <td>NaN</td>\n",
       "      <td>NaN</td>\n",
       "      <td>NaN</td>\n",
       "      <td>0</td>\n",
       "      <td>19 USC 2434</td>\n",
       "      <td>19 USC 2434</td>\n",
       "      <td>False</td>\n",
       "      <td>16.0</td>\n",
       "      <td>4655)— &lt;clause display-inline=\"no-display-inli...</td>\n",
       "      <td>Amending</td>\n",
       "    </tr>\n",
       "    <tr>\n",
       "      <th>4</th>\n",
       "      <td>2 FAM 154</td>\n",
       "      <td>343562</td>\n",
       "      <td>343571</td>\n",
       "      <td>[2] 1 fam 154</td>\n",
       "      <td>UK</td>\n",
       "      <td>NaN</td>\n",
       "      <td>NaN</td>\n",
       "      <td>NaN</td>\n",
       "      <td>0</td>\n",
       "      <td>NaN</td>\n",
       "      <td>NaN</td>\n",
       "      <td>False</td>\n",
       "      <td>NaN</td>\n",
       "      <td>(d) None of the funds appropriated or otherwis...</td>\n",
       "      <td>Authority</td>\n",
       "    </tr>\n",
       "  </tbody>\n",
       "</table>\n",
       "</div>"
      ]
     },
     "execution_count": 3,
     "metadata": {},
     "output_type": "execute_result"
    }
   ],
   "execution_count": 3
  },
  {
   "metadata": {
    "ExecuteTime": {
     "end_time": "2025-04-13T18:28:45.791205Z",
     "start_time": "2025-04-13T18:28:45.783574Z"
    }
   },
   "cell_type": "code",
   "source": [
    "label_encoder = LabelEncoder()\n",
    "final_citation_df[\"label\"] = label_encoder.fit_transform(final_citation_df[\"original_label\"])"
   ],
   "id": "4a9aecba15af5830",
   "outputs": [],
   "execution_count": 4
  },
  {
   "metadata": {
    "ExecuteTime": {
     "end_time": "2025-04-13T18:28:48.302007Z",
     "start_time": "2025-04-13T18:28:48.258757Z"
    }
   },
   "cell_type": "code",
   "source": "final_citation_df[\"input_text\"] = final_citation_df[\"text\"].fillna(\"None\") + \" [SEP] \" + final_citation_df[\"context\"].fillna(\"None\")",
   "id": "4c43f3abea84472d",
   "outputs": [],
   "execution_count": 5
  },
  {
   "metadata": {
    "ExecuteTime": {
     "end_time": "2025-04-13T18:28:53.593133Z",
     "start_time": "2025-04-13T18:28:53.567197Z"
    }
   },
   "cell_type": "code",
   "source": "train_df, test_df = train_test_split(final_citation_df, test_size=0.3, stratify=final_citation_df[\"label\"], random_state=5934)",
   "id": "d6280c25637ba815",
   "outputs": [],
   "execution_count": 6
  },
  {
   "metadata": {
    "ExecuteTime": {
     "end_time": "2025-04-13T18:28:54.878559Z",
     "start_time": "2025-04-13T18:28:54.871996Z"
    }
   },
   "cell_type": "code",
   "source": [
    "train_dist = train_df[\"label\"].value_counts()\n",
    "test_dist = test_df[\"label\"].value_counts()"
   ],
   "id": "755386460af794c0",
   "outputs": [],
   "execution_count": 7
  },
  {
   "metadata": {
    "ExecuteTime": {
     "end_time": "2025-04-13T18:29:08.304176Z",
     "start_time": "2025-04-13T18:29:08.300960Z"
    }
   },
   "cell_type": "code",
   "source": "train_df.shape, test_df.shape",
   "id": "4bbf9402248e7f51",
   "outputs": [
    {
     "data": {
      "text/plain": [
       "((30639, 17), (13131, 17))"
      ]
     },
     "execution_count": 8,
     "metadata": {},
     "output_type": "execute_result"
    }
   ],
   "execution_count": 8
  },
  {
   "metadata": {
    "ExecuteTime": {
     "end_time": "2025-04-13T18:29:46.887708Z",
     "start_time": "2025-04-13T18:29:46.882432Z"
    }
   },
   "cell_type": "code",
   "source": [
    "train_subset = train_df[[\"input_text\", \"label\"]]\n",
    "type(train_subset)"
   ],
   "id": "5c644fdd04dd2ac1",
   "outputs": [
    {
     "data": {
      "text/plain": [
       "pandas.core.frame.DataFrame"
      ]
     },
     "execution_count": 10,
     "metadata": {},
     "output_type": "execute_result"
    }
   ],
   "execution_count": 10
  },
  {
   "metadata": {
    "ExecuteTime": {
     "end_time": "2025-04-13T18:30:08.670512Z",
     "start_time": "2025-04-13T18:30:08.665317Z"
    }
   },
   "cell_type": "code",
   "source": [
    "test_subset = test_df[[\"input_text\", \"label\"]]\n",
    "type(test_subset)"
   ],
   "id": "8283fa93f687b389",
   "outputs": [
    {
     "data": {
      "text/plain": [
       "pandas.core.frame.DataFrame"
      ]
     },
     "execution_count": 11,
     "metadata": {},
     "output_type": "execute_result"
    }
   ],
   "execution_count": 11
  },
  {
   "metadata": {
    "ExecuteTime": {
     "end_time": "2025-04-13T18:30:20.024141Z",
     "start_time": "2025-04-13T18:30:20.020627Z"
    }
   },
   "cell_type": "code",
   "source": "train_subset.shape, test_subset.shape",
   "id": "ac58152548860b6b",
   "outputs": [
    {
     "data": {
      "text/plain": [
       "((30639, 2), (13131, 2))"
      ]
     },
     "execution_count": 12,
     "metadata": {},
     "output_type": "execute_result"
    }
   ],
   "execution_count": 12
  },
  {
   "metadata": {
    "ExecuteTime": {
     "end_time": "2025-04-13T18:33:44.557677Z",
     "start_time": "2025-04-13T18:33:43.380069Z"
    }
   },
   "cell_type": "code",
   "source": [
    "model_name = \"nlpaueb/legal-bert-base-uncased\"\n",
    "tokenizer = AutoTokenizer.from_pretrained(model_name)\n",
    "model = AutoModelForSequenceClassification.from_pretrained(model_name, num_labels=6)\n",
    "model.to('cuda')"
   ],
   "id": "fab6301fbcbbda4f",
   "outputs": [
    {
     "name": "stderr",
     "output_type": "stream",
     "text": [
      "C:\\Users\\jaysa\\anaconda3\\Lib\\site-packages\\transformers\\tokenization_utils_base.py:1601: FutureWarning: `clean_up_tokenization_spaces` was not set. It will be set to `True` by default. This behavior will be depracted in transformers v4.45, and will be then set to `False` by default. For more details check this issue: https://github.com/huggingface/transformers/issues/31884\n",
      "  warnings.warn(\n",
      "Some weights of BertForSequenceClassification were not initialized from the model checkpoint at nlpaueb/legal-bert-base-uncased and are newly initialized: ['classifier.bias', 'classifier.weight']\n",
      "You should probably TRAIN this model on a down-stream task to be able to use it for predictions and inference.\n"
     ]
    },
    {
     "data": {
      "text/plain": [
       "BertForSequenceClassification(\n",
       "  (bert): BertModel(\n",
       "    (embeddings): BertEmbeddings(\n",
       "      (word_embeddings): Embedding(30522, 768, padding_idx=0)\n",
       "      (position_embeddings): Embedding(512, 768)\n",
       "      (token_type_embeddings): Embedding(2, 768)\n",
       "      (LayerNorm): LayerNorm((768,), eps=1e-12, elementwise_affine=True)\n",
       "      (dropout): Dropout(p=0.1, inplace=False)\n",
       "    )\n",
       "    (encoder): BertEncoder(\n",
       "      (layer): ModuleList(\n",
       "        (0-11): 12 x BertLayer(\n",
       "          (attention): BertAttention(\n",
       "            (self): BertSdpaSelfAttention(\n",
       "              (query): Linear(in_features=768, out_features=768, bias=True)\n",
       "              (key): Linear(in_features=768, out_features=768, bias=True)\n",
       "              (value): Linear(in_features=768, out_features=768, bias=True)\n",
       "              (dropout): Dropout(p=0.1, inplace=False)\n",
       "            )\n",
       "            (output): BertSelfOutput(\n",
       "              (dense): Linear(in_features=768, out_features=768, bias=True)\n",
       "              (LayerNorm): LayerNorm((768,), eps=1e-12, elementwise_affine=True)\n",
       "              (dropout): Dropout(p=0.1, inplace=False)\n",
       "            )\n",
       "          )\n",
       "          (intermediate): BertIntermediate(\n",
       "            (dense): Linear(in_features=768, out_features=3072, bias=True)\n",
       "            (intermediate_act_fn): GELUActivation()\n",
       "          )\n",
       "          (output): BertOutput(\n",
       "            (dense): Linear(in_features=3072, out_features=768, bias=True)\n",
       "            (LayerNorm): LayerNorm((768,), eps=1e-12, elementwise_affine=True)\n",
       "            (dropout): Dropout(p=0.1, inplace=False)\n",
       "          )\n",
       "        )\n",
       "      )\n",
       "    )\n",
       "    (pooler): BertPooler(\n",
       "      (dense): Linear(in_features=768, out_features=768, bias=True)\n",
       "      (activation): Tanh()\n",
       "    )\n",
       "  )\n",
       "  (dropout): Dropout(p=0.1, inplace=False)\n",
       "  (classifier): Linear(in_features=768, out_features=6, bias=True)\n",
       ")"
      ]
     },
     "execution_count": 14,
     "metadata": {},
     "output_type": "execute_result"
    }
   ],
   "execution_count": 14
  },
  {
   "metadata": {
    "ExecuteTime": {
     "end_time": "2025-04-13T18:33:57.938575Z",
     "start_time": "2025-04-13T18:33:57.837575Z"
    }
   },
   "cell_type": "code",
   "source": [
    "train_dataset = Dataset.from_pandas(train_subset.rename(columns={\"input_text\": \"text\"}))\n",
    "test_dataset = Dataset.from_pandas(test_subset.rename(columns={\"input_text\": \"text\"}))"
   ],
   "id": "60bf7aa7a42acbfa",
   "outputs": [],
   "execution_count": 15
  },
  {
   "metadata": {
    "ExecuteTime": {
     "end_time": "2025-04-13T18:34:03.459729Z",
     "start_time": "2025-04-13T18:34:03.456039Z"
    }
   },
   "cell_type": "code",
   "source": [
    "def tokenize_function(example):\n",
    "    return tokenizer(example[\"text\"], padding=\"max_length\", truncation=True, max_length=512)"
   ],
   "id": "82bc281aee8962d9",
   "outputs": [],
   "execution_count": 16
  },
  {
   "metadata": {
    "ExecuteTime": {
     "end_time": "2025-04-13T18:34:19.750481Z",
     "start_time": "2025-04-13T18:34:10.712266Z"
    }
   },
   "cell_type": "code",
   "source": [
    "tokenized_train = train_dataset.map(tokenize_function, batched=True).remove_columns([\"text\"])\n",
    "tokenized_test = test_dataset.map(tokenize_function, batched=True).remove_columns([\"text\"])\n",
    "tokenized_train.set_format(\"torch\")\n",
    "tokenized_test.set_format(\"torch\")"
   ],
   "id": "32d5c458dc0b2c00",
   "outputs": [
    {
     "data": {
      "text/plain": [
       "Map:   0%|          | 0/30639 [00:00<?, ? examples/s]"
      ],
      "application/vnd.jupyter.widget-view+json": {
       "version_major": 2,
       "version_minor": 0,
       "model_id": "c2cc359c99ab4b309f20ae73744cc543"
      }
     },
     "metadata": {},
     "output_type": "display_data"
    },
    {
     "data": {
      "text/plain": [
       "Map:   0%|          | 0/13131 [00:00<?, ? examples/s]"
      ],
      "application/vnd.jupyter.widget-view+json": {
       "version_major": 2,
       "version_minor": 0,
       "model_id": "1efce4dda191403b843bca48d8742695"
      }
     },
     "metadata": {},
     "output_type": "display_data"
    }
   ],
   "execution_count": 17
  },
  {
   "metadata": {
    "ExecuteTime": {
     "end_time": "2025-04-13T18:35:13.938Z",
     "start_time": "2025-04-13T18:35:13.886628Z"
    }
   },
   "cell_type": "code",
   "source": [
    "training_args = TrainingArguments(\n",
    "    output_dir=\"./legalbert_results\",\n",
    "    evaluation_strategy=\"epoch\",\n",
    "    save_strategy=\"epoch\",\n",
    "    per_device_train_batch_size=8,\n",
    "    per_device_eval_batch_size=8,\n",
    "    num_train_epochs=3,\n",
    "    logging_dir=\"./legalbert_logs\",\n",
    "    load_best_model_at_end=True,\n",
    "    metric_for_best_model=\"accuracy\",\n",
    ")"
   ],
   "id": "6d465cb0036378c3",
   "outputs": [
    {
     "name": "stderr",
     "output_type": "stream",
     "text": [
      "C:\\Users\\jaysa\\anaconda3\\Lib\\site-packages\\transformers\\training_args.py:1525: FutureWarning: `evaluation_strategy` is deprecated and will be removed in version 4.46 of 🤗 Transformers. Use `eval_strategy` instead\n",
      "  warnings.warn(\n"
     ]
    }
   ],
   "execution_count": 21
  },
  {
   "metadata": {
    "ExecuteTime": {
     "end_time": "2025-04-13T18:35:15.635681Z",
     "start_time": "2025-04-13T18:35:15.623417Z"
    }
   },
   "cell_type": "code",
   "source": [
    "trainer = Trainer(\n",
    "    model=model,\n",
    "    args=training_args,\n",
    "    train_dataset=tokenized_train,\n",
    "    eval_dataset=tokenized_test,\n",
    "    tokenizer=tokenizer,\n",
    ")#%% md\n"
   ],
   "id": "ba442790902069b",
   "outputs": [],
   "execution_count": 22
  },
  {
   "metadata": {
    "jupyter": {
     "is_executing": true
    },
    "ExecuteTime": {
     "start_time": "2025-04-13T18:35:16.612176Z"
    }
   },
   "cell_type": "code",
   "source": "trainer.train()",
   "id": "4b9156eed870343a",
   "outputs": [
    {
     "data": {
      "text/plain": [
       "<IPython.core.display.HTML object>"
      ],
      "text/html": [
       "\n",
       "    <div>\n",
       "      \n",
       "      <progress value='27' max='11490' style='width:300px; height:20px; vertical-align: middle;'></progress>\n",
       "      [   27/11490 00:07 < 1:00:35, 3.15 it/s, Epoch 0.01/3]\n",
       "    </div>\n",
       "    <table border=\"1\" class=\"dataframe\">\n",
       "  <thead>\n",
       " <tr style=\"text-align: left;\">\n",
       "      <th>Epoch</th>\n",
       "      <th>Training Loss</th>\n",
       "      <th>Validation Loss</th>\n",
       "    </tr>\n",
       "  </thead>\n",
       "  <tbody>\n",
       "  </tbody>\n",
       "</table><p>"
      ]
     },
     "metadata": {},
     "output_type": "display_data"
    }
   ],
   "execution_count": null
  }
 ],
 "metadata": {
  "kernelspec": {
   "display_name": "Python 3",
   "language": "python",
   "name": "python3"
  },
  "language_info": {
   "codemirror_mode": {
    "name": "ipython",
    "version": 2
   },
   "file_extension": ".py",
   "mimetype": "text/x-python",
   "name": "python",
   "nbconvert_exporter": "python",
   "pygments_lexer": "ipython2",
   "version": "2.7.6"
  }
 },
 "nbformat": 4,
 "nbformat_minor": 5
}
