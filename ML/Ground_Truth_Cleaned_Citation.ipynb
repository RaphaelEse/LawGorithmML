{
 "cells": [
  {
   "cell_type": "code",
   "id": "initial_id",
   "metadata": {
    "collapsed": true,
    "ExecuteTime": {
     "end_time": "2025-04-13T00:10:24.357792Z",
     "start_time": "2025-04-13T00:10:24.331652Z"
    }
   },
   "source": [
    "import pandas as pd\n",
    "from openai import OpenAI\n",
    "from sklearn.model_selection import train_test_split as tts\n",
    "from concurrent.futures import ThreadPoolExecutor\n",
    "import os\n",
    "from tqdm import tqdm\n",
    "import re\n",
    "import warnings"
   ],
   "outputs": [],
   "execution_count": 27
  },
  {
   "metadata": {
    "ExecuteTime": {
     "end_time": "2025-04-12T18:25:05.360318Z",
     "start_time": "2025-04-12T18:25:05.355870Z"
    }
   },
   "cell_type": "code",
   "source": "warnings.filterwarnings(\"ignore\")",
   "id": "c8f68af55afecff0",
   "outputs": [],
   "execution_count": 4
  },
  {
   "metadata": {
    "ExecuteTime": {
     "end_time": "2025-04-12T18:25:07.828448Z",
     "start_time": "2025-04-12T18:25:05.380512Z"
    }
   },
   "cell_type": "code",
   "source": "df_citation = pd.read_csv(\"Cleaned Citations with Context.csv\")",
   "id": "852fa8fb97f03243",
   "outputs": [],
   "execution_count": 5
  },
  {
   "metadata": {
    "ExecuteTime": {
     "end_time": "2025-04-12T18:25:07.861631Z",
     "start_time": "2025-04-12T18:25:07.837795Z"
    }
   },
   "cell_type": "code",
   "source": "df_citation.info",
   "id": "5256bca5548f7d46",
   "outputs": [
    {
     "data": {
      "text/plain": [
       "<bound method DataFrame.info of      Unnamed: 0                                               text  \\\n",
       "0           113                                     section 101(9)   \n",
       "1           120                                        section 101   \n",
       "2           121                                        section 101   \n",
       "3           123                                        section 101   \n",
       "4           124                                        section 101   \n",
       "...         ...                                                ...   \n",
       "9490      28206  Section 102(c) of the Nuclear Energy Innovatio...   \n",
       "9491      28210  Section 203 of the Energy Reorganization Act o...   \n",
       "9492      28218       Section 181 of the Atomic Energy Act of 1954   \n",
       "9493      28222       section 103 of the Atomic Energy Act of 1954   \n",
       "9494      28239                                               2134   \n",
       "\n",
       "     startPosition endPosition     normCite citeType             altCite  \\\n",
       "0            28956       28970   38 usc 101      USC  38 U.S.C. § 101(9)   \n",
       "1            30092       30103   38 usc 101      USC     38 U.S.C. § 101   \n",
       "2            30411       30422   38 usc 101      USC     38 U.S.C. § 101   \n",
       "3            30945       30956   38 usc 101      USC     38 U.S.C. § 101   \n",
       "4            31203       31214   38 usc 101      USC     38 U.S.C. § 101   \n",
       "...            ...         ...          ...      ...                 ...   \n",
       "9490         76410       76479  42 usc 2215      USC         42 usc 2215   \n",
       "9491         77350       77402  42 usc 5843      USC         42 usc 5843   \n",
       "9492         78905       78949  42 usc 2231      USC         42 usc 2231   \n",
       "9493         80446       80490  42 usc 2133      USC         42 usc 2133   \n",
       "9494         84932       84936  42 usc 2134      USC    42 U.S.C. § 2134   \n",
       "\n",
       "     pinCiteStr pageRangeStr nodeId  ... Unnamed: 2122 Unnamed: 2123  \\\n",
       "0           NaN          NaN      0  ...           NaN           NaN   \n",
       "1           NaN          NaN      0  ...           NaN           NaN   \n",
       "2           NaN          NaN      0  ...           NaN           NaN   \n",
       "3           NaN          NaN      0  ...           NaN           NaN   \n",
       "4           NaN          NaN      0  ...           NaN           NaN   \n",
       "...         ...          ...    ...  ...           ...           ...   \n",
       "9490        NaN          NaN      0  ...           NaN           NaN   \n",
       "9491        NaN          NaN      0  ...           NaN           NaN   \n",
       "9492        NaN          NaN      0  ...           NaN           NaN   \n",
       "9493        NaN          NaN      0  ...           NaN           NaN   \n",
       "9494        NaN          NaN      0  ...           NaN           NaN   \n",
       "\n",
       "     Unnamed: 2124 Unnamed: 2125 Unnamed: 2126 Unnamed: 2127 Unnamed: 2128  \\\n",
       "0              NaN           NaN           NaN           NaN           NaN   \n",
       "1              NaN           NaN           NaN           NaN           NaN   \n",
       "2              NaN           NaN           NaN           NaN           NaN   \n",
       "3              NaN           NaN           NaN           NaN           NaN   \n",
       "4              NaN           NaN           NaN           NaN           NaN   \n",
       "...            ...           ...           ...           ...           ...   \n",
       "9490           NaN           NaN           NaN           NaN           NaN   \n",
       "9491           NaN           NaN           NaN           NaN           NaN   \n",
       "9492           NaN           NaN           NaN           NaN           NaN   \n",
       "9493           NaN           NaN           NaN           NaN           NaN   \n",
       "9494           NaN           NaN           NaN           NaN           NaN   \n",
       "\n",
       "     Unnamed: 2129 Unnamed: 2130 Unnamed: 2131  \n",
       "0              NaN           NaN           NaN  \n",
       "1              NaN           NaN           NaN  \n",
       "2              NaN           NaN           NaN  \n",
       "3              NaN           NaN           NaN  \n",
       "4              NaN           NaN           NaN  \n",
       "...            ...           ...           ...  \n",
       "9490           NaN           NaN           NaN  \n",
       "9491           NaN           NaN           NaN  \n",
       "9492           NaN           NaN           NaN  \n",
       "9493           NaN           NaN           NaN  \n",
       "9494           NaN           NaN           NaN  \n",
       "\n",
       "[9495 rows x 2132 columns]>"
      ]
     },
     "execution_count": 6,
     "metadata": {},
     "output_type": "execute_result"
    }
   ],
   "execution_count": 6
  },
  {
   "metadata": {
    "ExecuteTime": {
     "end_time": "2025-04-12T18:25:07.958271Z",
     "start_time": "2025-04-12T18:25:07.951382Z"
    }
   },
   "cell_type": "code",
   "source": "df_citation.columns",
   "id": "4b41f6f5a478cf31",
   "outputs": [
    {
     "data": {
      "text/plain": [
       "Index(['Unnamed: 0', 'text', 'startPosition', 'endPosition', 'normCite',\n",
       "       'citeType', 'altCite', 'pinCiteStr', 'pageRangeStr', 'nodeId',\n",
       "       ...\n",
       "       'Unnamed: 2122', 'Unnamed: 2123', 'Unnamed: 2124', 'Unnamed: 2125',\n",
       "       'Unnamed: 2126', 'Unnamed: 2127', 'Unnamed: 2128', 'Unnamed: 2129',\n",
       "       'Unnamed: 2130', 'Unnamed: 2131'],\n",
       "      dtype='object', length=2132)"
      ]
     },
     "execution_count": 7,
     "metadata": {},
     "output_type": "execute_result"
    }
   ],
   "execution_count": 7
  },
  {
   "metadata": {
    "ExecuteTime": {
     "end_time": "2025-04-12T18:25:08.079142Z",
     "start_time": "2025-04-12T18:25:08.073777Z"
    }
   },
   "cell_type": "code",
   "source": [
    "# Remove features that have Unnamed in the feature name\n",
    "df_citation = df_citation.loc[:, ~df_citation.columns.str.contains('^Unnamed')]"
   ],
   "id": "13f7453fad4743e9",
   "outputs": [],
   "execution_count": 8
  },
  {
   "metadata": {
    "ExecuteTime": {
     "end_time": "2025-04-12T18:25:08.122430Z",
     "start_time": "2025-04-12T18:25:08.095322Z"
    }
   },
   "cell_type": "code",
   "source": "df_citation.info()",
   "id": "30df609576e791e6",
   "outputs": [
    {
     "name": "stdout",
     "output_type": "stream",
     "text": [
      "<class 'pandas.core.frame.DataFrame'>\n",
      "RangeIndex: 9495 entries, 0 to 9494\n",
      "Data columns (total 14 columns):\n",
      " #   Column                Non-Null Count  Dtype \n",
      "---  ------                --------------  ----- \n",
      " 0   text                  9491 non-null   object\n",
      " 1   startPosition         9491 non-null   object\n",
      " 2   endPosition           9491 non-null   object\n",
      " 3   normCite              9491 non-null   object\n",
      " 4   citeType              9306 non-null   object\n",
      " 5   altCite               2007 non-null   object\n",
      " 6   pinCiteStr            5 non-null      object\n",
      " 7   pageRangeStr          5 non-null      object\n",
      " 8   nodeId                9491 non-null   object\n",
      " 9   section               6730 non-null   object\n",
      " 10  sectionAndSubSection  6730 non-null   object\n",
      " 11  isShortCite           9491 non-null   object\n",
      " 12  chunk_id              6403 non-null   object\n",
      " 13  context               9491 non-null   object\n",
      "dtypes: object(14)\n",
      "memory usage: 1.0+ MB\n"
     ]
    }
   ],
   "execution_count": 9
  },
  {
   "metadata": {
    "ExecuteTime": {
     "end_time": "2025-04-12T18:25:08.145951Z",
     "start_time": "2025-04-12T18:25:08.136675Z"
    }
   },
   "cell_type": "code",
   "source": "annotate_df, holdout_df = tts(df_citation, train_size=0.25, random_state=2025)",
   "id": "fba77f2bb1c2d980",
   "outputs": [],
   "execution_count": 10
  },
  {
   "metadata": {
    "ExecuteTime": {
     "end_time": "2025-04-12T18:25:08.161065Z",
     "start_time": "2025-04-12T18:25:08.156774Z"
    }
   },
   "cell_type": "code",
   "source": "annotate_df.shape, holdout_df.shape",
   "id": "39dfcb16a2f7e322",
   "outputs": [
    {
     "data": {
      "text/plain": [
       "((2373, 14), (7122, 14))"
      ]
     },
     "execution_count": 11,
     "metadata": {},
     "output_type": "execute_result"
    }
   ],
   "execution_count": 11
  },
  {
   "metadata": {
    "ExecuteTime": {
     "end_time": "2025-04-12T18:25:08.176685Z",
     "start_time": "2025-04-12T18:25:08.171726Z"
    }
   },
   "cell_type": "code",
   "source": "annotate_df.columns",
   "id": "5dc87674f0b677b2",
   "outputs": [
    {
     "data": {
      "text/plain": [
       "Index(['text', 'startPosition', 'endPosition', 'normCite', 'citeType',\n",
       "       'altCite', 'pinCiteStr', 'pageRangeStr', 'nodeId', 'section',\n",
       "       'sectionAndSubSection', 'isShortCite', 'chunk_id', 'context'],\n",
       "      dtype='object')"
      ]
     },
     "execution_count": 12,
     "metadata": {},
     "output_type": "execute_result"
    }
   ],
   "execution_count": 12
  },
  {
   "metadata": {
    "ExecuteTime": {
     "end_time": "2025-04-12T18:25:08.424439Z",
     "start_time": "2025-04-12T18:25:08.200878Z"
    }
   },
   "cell_type": "code",
   "source": "client = OpenAI(base_url=\"http://localhost:8051/v1\", api_key=\"lm-studio\")",
   "id": "d8805ab936ff5669",
   "outputs": [],
   "execution_count": 13
  },
  {
   "metadata": {
    "ExecuteTime": {
     "end_time": "2025-04-12T18:25:08.431539Z",
     "start_time": "2025-04-12T18:25:08.424439Z"
    }
   },
   "cell_type": "code",
   "source": [
    "# def classify_with_llm_with_explanation(citation, text):\n",
    "#     prompt = f\"\"\"\n",
    "# You are a legal expert with 20+ years of experience in legislative analysis.\n",
    "# \n",
    "# You are given a **citation** and its **surrounding context** from a U.S. congressional bill. Based on the citation’s legal function in the text, classify it into ONE of the following categories:\n",
    "# \n",
    "# ---\n",
    "# \n",
    "# POSSIBLE LABELS:\n",
    "# \n",
    "# 1. Authority – The citation grants rulemaking power, allocates legal authority, or authorizes actions/programs.\n",
    "#    - Keywords: \"authorized\", \"shall\", \"under the authority of\", \"empowered to\", \"required to\"\n",
    "#    - Example: “The Secretary shall issue regulations under 42 USC 1983.”\n",
    "# \n",
    "# 2. Amending – The citation changes, updates, or extends an existing statute.\n",
    "#    - Keywords: \"is amended\", \"insert\", \"strike\", \"reauthorized\"\n",
    "#    - Example: “Section 102 of the Fair Housing Act is amended to include…”\n",
    "# \n",
    "# 3. Rescinding – The citation repeals or invalidates part of a law.\n",
    "#    - Keywords: \"repealed\", \"rescinded\", \"null and void\", \"terminated\"\n",
    "#    - Example: “Section 12 of the Act is hereby repealed.”\n",
    "# \n",
    "# 4. Definition – The citation is used to define a term or concept used in the bill.\n",
    "#    - Keywords: \"means\", \"includes\", \"as defined in\", \"for the purposes of this section\"\n",
    "#    - Example: “‘State’ means any of the 50 states, as defined in Section 2.”\n",
    "# \n",
    "# 5. Precedent – The citation is included to guide interpretation or reference prior laws without changing or applying them.\n",
    "#    - Keywords: \"see\", \"reference\", \"according to\", \"based on\", \"note\"\n",
    "#    - Example: “According to 1 USC 1 note, singular includes plural.”\n",
    "# \n",
    "# 6. Exception – The citation provides an exception or special case to a rule or regulation.\n",
    "#    - Keywords: \"notwithstanding\", \"except as provided\", \"does not apply\", \"exempted\"\n",
    "#    - Example: “Notwithstanding section 4(b), this clause shall apply to…\"\n",
    "# \n",
    "# Citation:\n",
    "# \\\"\\\"\\\"{citation}\\\"\\\"\\\"\n",
    "# \n",
    "# Context:\n",
    "# \\\"\\\"\\\"{context}\\\"\\\"\\\"\n",
    "# \n",
    "# ---\n",
    "# \n",
    "# INSTRUCTIONS:\n",
    "# \n",
    "# - Read both the **citation text** and the **context** carefully.\n",
    "# - Choose **only one** of the six labels that best represents the citation’s legislative intent.\n",
    "# - Do **not infer** beyond the context given.\n",
    "# - Respond in this format:\n",
    "# \n",
    "# Label: <One of the six labels>  \n",
    "# Reason: <Brief, one-sentence justification based on the context>\n",
    "# \n",
    "# \"\"\"\n",
    "# \n",
    "#     try:\n",
    "#         response = client.chat.completions.create(\n",
    "#             model=\"lmstudio-community/Meta-Llama-3-1-8B-Instruct-GGUF\",\n",
    "#             messages=[{\"role\": \"user\", \"content\": prompt}],\n",
    "#             temperature=0.3,\n",
    "#             max_tokens=100\n",
    "#         )\n",
    "#         return response.choices[0].message.content.strip()\n",
    "#     except Exception as e:\n",
    "#         print(\"LLM Error:\", e)\n",
    "#         return None"
   ],
   "id": "e1fe3501c4aa2dac",
   "outputs": [],
   "execution_count": 14
  },
  {
   "metadata": {
    "ExecuteTime": {
     "end_time": "2025-04-12T18:25:08.458416Z",
     "start_time": "2025-04-12T18:25:08.447713Z"
    }
   },
   "cell_type": "code",
   "source": "annotate_df[['text', 'context']].head(5)",
   "id": "463817d9ae654789",
   "outputs": [
    {
     "data": {
      "text/plain": [
       "              text                                            context\n",
       "4593       1 USC 1  Division A—Military Construction, Veterans Aff...\n",
       "4066  or direction  16353(b)). <paragraph display-inline=\"no-displ...\n",
       "937      42 U.S.C.  Domestic Food Programs Food and Nutrition Serv...\n",
       "3623   19 USC 2434  4655)— <clause display-inline=\"no-display-inli...\n",
       "8571     2 FAM 154  (d) None of the funds appropriated or otherwis..."
      ],
      "text/html": [
       "<div>\n",
       "<style scoped>\n",
       "    .dataframe tbody tr th:only-of-type {\n",
       "        vertical-align: middle;\n",
       "    }\n",
       "\n",
       "    .dataframe tbody tr th {\n",
       "        vertical-align: top;\n",
       "    }\n",
       "\n",
       "    .dataframe thead th {\n",
       "        text-align: right;\n",
       "    }\n",
       "</style>\n",
       "<table border=\"1\" class=\"dataframe\">\n",
       "  <thead>\n",
       "    <tr style=\"text-align: right;\">\n",
       "      <th></th>\n",
       "      <th>text</th>\n",
       "      <th>context</th>\n",
       "    </tr>\n",
       "  </thead>\n",
       "  <tbody>\n",
       "    <tr>\n",
       "      <th>4593</th>\n",
       "      <td>1 USC 1</td>\n",
       "      <td>Division A—Military Construction, Veterans Aff...</td>\n",
       "    </tr>\n",
       "    <tr>\n",
       "      <th>4066</th>\n",
       "      <td>or direction</td>\n",
       "      <td>16353(b)). &lt;paragraph display-inline=\"no-displ...</td>\n",
       "    </tr>\n",
       "    <tr>\n",
       "      <th>937</th>\n",
       "      <td>42 U.S.C.</td>\n",
       "      <td>Domestic Food Programs Food and Nutrition Serv...</td>\n",
       "    </tr>\n",
       "    <tr>\n",
       "      <th>3623</th>\n",
       "      <td>19 USC 2434</td>\n",
       "      <td>4655)— &lt;clause display-inline=\"no-display-inli...</td>\n",
       "    </tr>\n",
       "    <tr>\n",
       "      <th>8571</th>\n",
       "      <td>2 FAM 154</td>\n",
       "      <td>(d) None of the funds appropriated or otherwis...</td>\n",
       "    </tr>\n",
       "  </tbody>\n",
       "</table>\n",
       "</div>"
      ]
     },
     "execution_count": 15,
     "metadata": {},
     "output_type": "execute_result"
    }
   ],
   "execution_count": 15
  },
  {
   "metadata": {
    "ExecuteTime": {
     "end_time": "2025-04-12T18:25:08.723107Z",
     "start_time": "2025-04-12T18:25:08.720336Z"
    }
   },
   "cell_type": "code",
   "source": [
    "# Testing the function\n",
    "# context = annotate_df.iloc[0]['context']\n",
    "# citation = annotate_df.iloc[0]['text']\n",
    "# \n",
    "# response = classify_with_llm_with_explanation(citation, context)\n",
    "# print(\"Response:\", response)"
   ],
   "id": "b9cbaa53dfea5b3b",
   "outputs": [],
   "execution_count": 16
  },
  {
   "metadata": {
    "ExecuteTime": {
     "end_time": "2025-04-12T18:25:08.729657Z",
     "start_time": "2025-04-12T18:25:08.723107Z"
    }
   },
   "cell_type": "code",
   "source": [
    "# Testing the function\n",
    "# context = annotate_df.iloc[1]['context']\n",
    "# citation = annotate_df.iloc[1]['text']\n",
    "# \n",
    "# response = classify_with_llm_with_explanation(citation, context)\n",
    "# print(\"Response:\", response)"
   ],
   "id": "3753ee43bb47526d",
   "outputs": [],
   "execution_count": 17
  },
  {
   "metadata": {
    "ExecuteTime": {
     "end_time": "2025-04-12T18:25:08.769857Z",
     "start_time": "2025-04-12T18:25:08.767230Z"
    }
   },
   "cell_type": "code",
   "source": [
    "# Testing the function\n",
    "# context = annotate_df.iloc[2]['context']\n",
    "# citation = annotate_df.iloc[2]['text']\n",
    "# \n",
    "# response = classify_with_llm_with_explanation(citation, context)\n",
    "# print(\"Response:\", response)"
   ],
   "id": "cf98b061463e2705",
   "outputs": [],
   "execution_count": 18
  },
  {
   "metadata": {
    "ExecuteTime": {
     "end_time": "2025-04-12T18:25:08.790301Z",
     "start_time": "2025-04-12T18:25:08.784545Z"
    }
   },
   "cell_type": "code",
   "source": [
    "# Testing the function\n",
    "# context = annotate_df.iloc[3]['context']\n",
    "# citation = annotate_df.iloc[3]['text']\n",
    "# \n",
    "# response = classify_with_llm_with_explanation(citation, context)\n",
    "# print(\"Response:\", response)"
   ],
   "id": "bd5018054f0fec52",
   "outputs": [],
   "execution_count": 19
  },
  {
   "metadata": {
    "ExecuteTime": {
     "end_time": "2025-04-12T18:25:08.842781Z",
     "start_time": "2025-04-12T18:25:08.839493Z"
    }
   },
   "cell_type": "code",
   "source": [
    "# Testing the function\n",
    "# context = annotate_df.iloc[4]['context']\n",
    "# citation = annotate_df.iloc[4]['text']\n",
    "# \n",
    "# response = classify_with_llm_with_explanation(citation, context)\n",
    "# print(\"Response:\", response)"
   ],
   "id": "4605fb8d2b4af683",
   "outputs": [],
   "execution_count": 20
  },
  {
   "metadata": {
    "ExecuteTime": {
     "end_time": "2025-04-12T18:25:08.885148Z",
     "start_time": "2025-04-12T18:25:08.880709Z"
    }
   },
   "cell_type": "code",
   "source": [
    "def classify_with_llm(citation, text):\n",
    "    prompt = f\"\"\"\n",
    "\n",
    "You are a legal expert with 20+ years of experience in legislative analysis.\n",
    "\n",
    "You are given a **citation** and its **surrounding context** from a U.S. congressional bill. Based on the citation’s legal function in the text, classify it into ONE of the following categories:\n",
    "\n",
    "---\n",
    "\n",
    "POSSIBLE LABELS:\n",
    "\n",
    "1. Authority – The citation grants rulemaking power, allocates legal authority, or authorizes actions/programs.\n",
    "   - Keywords: \"authorized\", \"shall\", \"under the authority of\", \"empowered to\", \"required to\"\n",
    "   - Example: “The Secretary shall issue regulations under 42 USC 1983.”\n",
    "\n",
    "2. Amending – The citation changes, updates, or extends an existing statute.\n",
    "   - Keywords: \"is amended\", \"insert\", \"strike\", \"reauthorized\"\n",
    "   - Example: “Section 102 of the Fair Housing Act is amended to include…”\n",
    "\n",
    "3. Rescinding – The citation repeals or invalidates part of a law.\n",
    "   - Keywords: \"repealed\", \"rescinded\", \"null and void\", \"terminated\"\n",
    "   - Example: “Section 12 of the Act is hereby repealed.”\n",
    "\n",
    "4. Definition – The citation is used to define a term or concept used in the bill.\n",
    "   - Keywords: \"means\", \"includes\", \"as defined in\", \"for the purposes of this section\"\n",
    "   - Example: “‘State’ means any of the 50 states, as defined in Section 2.”\n",
    "\n",
    "5. Precedent – The citation is included to guide interpretation or reference prior laws without changing or applying them.\n",
    "   - Keywords: \"see\", \"reference\", \"according to\", \"based on\", \"note\"\n",
    "   - Example: “According to 1 USC 1 note, singular includes plural.”\n",
    "\n",
    "6. Exception – The citation provides an exception or special case to a rule or regulation.\n",
    "   - Keywords: \"notwithstanding\", \"except as provided\", \"does not apply\", \"exempted\"\n",
    "   - Example: “Notwithstanding section 4(b), this clause shall apply to…\"\n",
    "\n",
    "Citation:\n",
    "\\\"\\\"\\\"{citation}\\\"\\\"\\\"\n",
    "\n",
    "Context:\n",
    "\\\"\\\"\\\"{text}\\\"\\\"\\\"\n",
    "\n",
    "---\n",
    "\n",
    "INSTRUCTIONS:\n",
    "\n",
    "- Read both the **citation text** and the **context** carefully.\n",
    "- Choose **only one** of the six labels that best represents the citation’s legislative intent.\n",
    "- Do **not infer** beyond the context given.\n",
    "- Respond in this format:\n",
    "\n",
    "Label: <One of the six labels>  \n",
    "\"\"\"\n",
    "    try:\n",
    "        response = client.chat.completions.create(\n",
    "            model=\"lmstudio-community/Meta-Llama-3-1-8B-Instruct-GGUF\",\n",
    "            messages=[{\"role\": \"user\", \"content\": prompt}],\n",
    "            temperature=0.3,\n",
    "            max_tokens=100\n",
    "        )\n",
    "        return response.choices[0].message.content.strip()\n",
    "    except Exception as e:\n",
    "        print(\"None:\", e)\n",
    "        return None\n",
    "\n"
   ],
   "id": "a13ba5185bdfe0b0",
   "outputs": [],
   "execution_count": 21
  },
  {
   "metadata": {
    "ExecuteTime": {
     "end_time": "2025-04-12T18:25:08.898505Z",
     "start_time": "2025-04-12T18:25:08.895437Z"
    }
   },
   "cell_type": "code",
   "source": [
    "max_workers = os.cpu_count()\n",
    "print(\"Max Workers:\", max_workers)"
   ],
   "id": "e0686ad353d09064",
   "outputs": [
    {
     "name": "stdout",
     "output_type": "stream",
     "text": [
      "Max Workers: 16\n"
     ]
    }
   ],
   "execution_count": 22
  },
  {
   "metadata": {
    "ExecuteTime": {
     "end_time": "2025-04-12T18:25:08.955669Z",
     "start_time": "2025-04-12T18:25:08.951806Z"
    }
   },
   "cell_type": "code",
   "source": [
    "# Annotate the label to the annotate_df\n",
    "def get_label(row):\n",
    "    citation = row['text']\n",
    "    context = row['context']\n",
    "    try:\n",
    "        response = classify_with_llm(citation, context)\n",
    "        if response and \"Label:\" in response:\n",
    "            return response.split(\"Label:\")[-1].strip()\n",
    "        else:\n",
    "            return \"Error\"\n",
    "    except Exception as e:\n",
    "        return \"Error\""
   ],
   "id": "4ec5e22edaa95652",
   "outputs": [],
   "execution_count": 23
  },
  {
   "metadata": {
    "ExecuteTime": {
     "end_time": "2025-04-12T18:25:08.974915Z",
     "start_time": "2025-04-12T18:25:08.969490Z"
    }
   },
   "cell_type": "code",
   "source": [
    "def annotate_labels_parallel(df, max_workers=max_workers):\n",
    "    with ThreadPoolExecutor(max_workers=max_workers) as executor:\n",
    "        labels = list(tqdm(\n",
    "            executor.map(get_label, [row for _, row in df.iterrows()]),\n",
    "            total=len(df),\n",
    "            desc=\"Annotating with LLM\"\n",
    "        ))\n",
    "    df[\"label\"] = labels\n",
    "    return df"
   ],
   "id": "38996ad0a9876b18",
   "outputs": [],
   "execution_count": 24
  },
  {
   "metadata": {
    "ExecuteTime": {
     "end_time": "2025-04-13T00:00:36.000696Z",
     "start_time": "2025-04-12T18:25:08.984696Z"
    }
   },
   "cell_type": "code",
   "source": "annotate_df = annotate_labels_parallel(annotate_df, max_workers=max_workers)",
   "id": "74a409babef7178d",
   "outputs": [
    {
     "name": "stderr",
     "output_type": "stream",
     "text": [
      "Annotating with LLM: 100%|██████████| 2373/2373 [5:35:26<00:00,  8.48s/it]  \n"
     ]
    }
   ],
   "execution_count": 25
  },
  {
   "metadata": {
    "ExecuteTime": {
     "end_time": "2025-04-13T00:00:36.134771Z",
     "start_time": "2025-04-13T00:00:36.101900Z"
    }
   },
   "cell_type": "code",
   "source": [
    "# Check the labels\n",
    "annotate_df['label'].value_counts()"
   ],
   "id": "426966cf18e88ab5",
   "outputs": [
    {
     "data": {
      "text/plain": [
       "label\n",
       "Authority                                                                                                                                                                                                                                                                                                                                                                                                   5\n",
       "Definition  \\n\\nExplanation: The citation \"20 U.S.C.\" is used to define a term or concept, specifically the meaning of \"institution of higher education\", which is referenced from section 101 of the Higher Education Act of 1965. This falls under the category of definition as it uses the keyword \"has the meaning given that term\" to clarify the definition.                                         3\n",
       "Definition  \\n\\nExplanation: The citation \"20 U.S.C.\" is used to define a term or concept, specifically the meaning of \"institution of higher education\", which is referenced from section 101 of the Higher Education Act of 1965. This falls under the category of \"Definition\" as it uses keywords such as \"has the meaning given that term\".                                                            3\n",
       "Authority  \\n\\nThe citation grants rulemaking power, allocates legal authority, or authorizes actions/programs. The keywords \"authorized by\" and \"under the authority of\" are present in the surrounding context, indicating that the citation is granting authority for specific actions or programs.                                                                                                      3\n",
       "Authority  \\n\\nExplanation: The citation \"7 U.S.C.\" is used to reference a specific section of the United States Code, which grants rulemaking power or allocates legal authority. In this case, it is used to refer to Section 156 of the Federal Agriculture Improvement and Reform Act of 1996, indicating that the Secretary has the authority to make decisions regarding loans under that section.    3\n",
       "                                                                                                                                                                                                                                                                                                                                                                                                           ..\n",
       "Definition  \\n\\nThe citation is used to define a term or concept, specifically \"Indian Tribe\", which has the meaning given by section 4 of the Indian Self-Determination and Education Assistance Act. The keyword \"means\" is also present in this context, indicating that the definition is being provided for clarity and consistency.                                                                   1\n",
       "Authority  \\n\\nExplanation: The citation \"136 U.S.C.\" is used as an authority to reference a specific section of the United States Code, which authorizes actions or programs. In this context, it is used to support the Secretary's evaluation and potential construction of a connection between the Upper Barataria Basin Hurricane and Storm Damage Risk Reduction project in Louisiana.               1\n",
       "Amending  \\n\\nExplanation: The citation \"29 U.S.C.\" is used to reference a specific section of the United States Code, which is being amended or updated by the changes described in the surrounding context. The context mentions redesignating paragraphs and subparagraphs, striking certain text, and adding new provisions, all of which are indicative of an amendment to an existing statute.        1\n",
       "Authority  \\n \\nExplanation: The citation \"22 U.S.C.\" is used to reference a specific statute, which grants rulemaking power or allocates legal authority. In this context, it seems to be referencing a law that has been previously enacted and is being cited as an example of the type of legislation that can be referenced in the bill.                                                               1\n",
       "Amending  \\n\\nExplanation: The citation is used to change an existing statute, specifically Section 1814(a)(7)(D)(i)(II) of the Social Security Act. This is evident from the context, which mentions amending and striking parts of the section, indicating a modification to the original law.                                                                                                            1\n",
       "Name: count, Length: 2329, dtype: int64"
      ]
     },
     "execution_count": 26,
     "metadata": {},
     "output_type": "execute_result"
    }
   ],
   "execution_count": 26
  },
  {
   "metadata": {
    "ExecuteTime": {
     "end_time": "2025-04-13T00:11:05.159253Z",
     "start_time": "2025-04-13T00:11:05.148485Z"
    }
   },
   "cell_type": "code",
   "source": [
    "def clean_label(label):\n",
    "    match = re.search(r\"(Authority|Amending|Rescinding|Definition|Precedent|Exception)\", label, re.IGNORECASE)\n",
    "    return match.group(1).capitalize() if match else \"Error\""
   ],
   "id": "b9923eb6899b49d0",
   "outputs": [],
   "execution_count": 28
  },
  {
   "metadata": {
    "ExecuteTime": {
     "end_time": "2025-04-13T00:11:20.298672Z",
     "start_time": "2025-04-13T00:11:20.256942Z"
    }
   },
   "cell_type": "code",
   "source": "annotate_df['label'] = annotate_df['label'].apply(clean_label)",
   "id": "7c6f0e8308d78f2d",
   "outputs": [],
   "execution_count": 29
  },
  {
   "metadata": {
    "ExecuteTime": {
     "end_time": "2025-04-13T00:11:31.601780Z",
     "start_time": "2025-04-13T00:11:31.579727Z"
    }
   },
   "cell_type": "code",
   "source": "annotate_df['label'].value_counts()",
   "id": "85cb6678c3eeef6d",
   "outputs": [
    {
     "data": {
      "text/plain": [
       "label\n",
       "Authority     1801\n",
       "Amending       304\n",
       "Definition     225\n",
       "Error           20\n",
       "Rescinding      11\n",
       "Exception        7\n",
       "Precedent        5\n",
       "Name: count, dtype: int64"
      ]
     },
     "execution_count": 30,
     "metadata": {},
     "output_type": "execute_result"
    }
   ],
   "execution_count": 30
  },
  {
   "metadata": {
    "ExecuteTime": {
     "end_time": "2025-04-13T00:12:00.368419Z",
     "start_time": "2025-04-13T00:12:00.357594Z"
    }
   },
   "cell_type": "code",
   "source": "annotate_df.head(5)",
   "id": "18253929d45f2a98",
   "outputs": [
    {
     "data": {
      "text/plain": [
       "              text startPosition endPosition       normCite citeType altCite  \\\n",
       "4593       1 USC 1          3479        3486        1 usc 1      USC     NaN   \n",
       "4066  or direction        188589      188601  or dir ection      NaN     NaN   \n",
       "937      42 U.S.C.        245062      245071         42 usc      USC     NaN   \n",
       "3623   19 USC 2434        110102      110113    19 usc 2434      USC     NaN   \n",
       "8571     2 FAM 154        343562      343571  [2] 1 fam 154       UK     NaN   \n",
       "\n",
       "     pinCiteStr pageRangeStr nodeId      section sectionAndSubSection  \\\n",
       "4593        NaN          NaN      0      1 USC 1              1 USC 1   \n",
       "4066        NaN          NaN      0          NaN                  NaN   \n",
       "937         NaN          NaN      0   42 U.S.C.            42 U.S.C.    \n",
       "3623        NaN          NaN      0  19 USC 2434          19 USC 2434   \n",
       "8571        NaN          NaN      0          NaN                  NaN   \n",
       "\n",
       "     isShortCite chunk_id                                            context  \\\n",
       "4593       FALSE        0  Division A—Military Construction, Veterans Aff...   \n",
       "4066       False      9.0  16353(b)). <paragraph display-inline=\"no-displ...   \n",
       "937        False        4  Domestic Food Programs Food and Nutrition Serv...   \n",
       "3623       False     16.0  4655)— <clause display-inline=\"no-display-inli...   \n",
       "8571       False      NaN  (d) None of the funds appropriated or otherwis...   \n",
       "\n",
       "           label  \n",
       "4593  Definition  \n",
       "4066  Definition  \n",
       "937    Authority  \n",
       "3623    Amending  \n",
       "8571   Authority  "
      ],
      "text/html": [
       "<div>\n",
       "<style scoped>\n",
       "    .dataframe tbody tr th:only-of-type {\n",
       "        vertical-align: middle;\n",
       "    }\n",
       "\n",
       "    .dataframe tbody tr th {\n",
       "        vertical-align: top;\n",
       "    }\n",
       "\n",
       "    .dataframe thead th {\n",
       "        text-align: right;\n",
       "    }\n",
       "</style>\n",
       "<table border=\"1\" class=\"dataframe\">\n",
       "  <thead>\n",
       "    <tr style=\"text-align: right;\">\n",
       "      <th></th>\n",
       "      <th>text</th>\n",
       "      <th>startPosition</th>\n",
       "      <th>endPosition</th>\n",
       "      <th>normCite</th>\n",
       "      <th>citeType</th>\n",
       "      <th>altCite</th>\n",
       "      <th>pinCiteStr</th>\n",
       "      <th>pageRangeStr</th>\n",
       "      <th>nodeId</th>\n",
       "      <th>section</th>\n",
       "      <th>sectionAndSubSection</th>\n",
       "      <th>isShortCite</th>\n",
       "      <th>chunk_id</th>\n",
       "      <th>context</th>\n",
       "      <th>label</th>\n",
       "    </tr>\n",
       "  </thead>\n",
       "  <tbody>\n",
       "    <tr>\n",
       "      <th>4593</th>\n",
       "      <td>1 USC 1</td>\n",
       "      <td>3479</td>\n",
       "      <td>3486</td>\n",
       "      <td>1 usc 1</td>\n",
       "      <td>USC</td>\n",
       "      <td>NaN</td>\n",
       "      <td>NaN</td>\n",
       "      <td>NaN</td>\n",
       "      <td>0</td>\n",
       "      <td>1 USC 1</td>\n",
       "      <td>1 USC 1</td>\n",
       "      <td>FALSE</td>\n",
       "      <td>0</td>\n",
       "      <td>Division A—Military Construction, Veterans Aff...</td>\n",
       "      <td>Definition</td>\n",
       "    </tr>\n",
       "    <tr>\n",
       "      <th>4066</th>\n",
       "      <td>or direction</td>\n",
       "      <td>188589</td>\n",
       "      <td>188601</td>\n",
       "      <td>or dir ection</td>\n",
       "      <td>NaN</td>\n",
       "      <td>NaN</td>\n",
       "      <td>NaN</td>\n",
       "      <td>NaN</td>\n",
       "      <td>0</td>\n",
       "      <td>NaN</td>\n",
       "      <td>NaN</td>\n",
       "      <td>False</td>\n",
       "      <td>9.0</td>\n",
       "      <td>16353(b)). &lt;paragraph display-inline=\"no-displ...</td>\n",
       "      <td>Definition</td>\n",
       "    </tr>\n",
       "    <tr>\n",
       "      <th>937</th>\n",
       "      <td>42 U.S.C.</td>\n",
       "      <td>245062</td>\n",
       "      <td>245071</td>\n",
       "      <td>42 usc</td>\n",
       "      <td>USC</td>\n",
       "      <td>NaN</td>\n",
       "      <td>NaN</td>\n",
       "      <td>NaN</td>\n",
       "      <td>0</td>\n",
       "      <td>42 U.S.C.</td>\n",
       "      <td>42 U.S.C.</td>\n",
       "      <td>False</td>\n",
       "      <td>4</td>\n",
       "      <td>Domestic Food Programs Food and Nutrition Serv...</td>\n",
       "      <td>Authority</td>\n",
       "    </tr>\n",
       "    <tr>\n",
       "      <th>3623</th>\n",
       "      <td>19 USC 2434</td>\n",
       "      <td>110102</td>\n",
       "      <td>110113</td>\n",
       "      <td>19 usc 2434</td>\n",
       "      <td>USC</td>\n",
       "      <td>NaN</td>\n",
       "      <td>NaN</td>\n",
       "      <td>NaN</td>\n",
       "      <td>0</td>\n",
       "      <td>19 USC 2434</td>\n",
       "      <td>19 USC 2434</td>\n",
       "      <td>False</td>\n",
       "      <td>16.0</td>\n",
       "      <td>4655)— &lt;clause display-inline=\"no-display-inli...</td>\n",
       "      <td>Amending</td>\n",
       "    </tr>\n",
       "    <tr>\n",
       "      <th>8571</th>\n",
       "      <td>2 FAM 154</td>\n",
       "      <td>343562</td>\n",
       "      <td>343571</td>\n",
       "      <td>[2] 1 fam 154</td>\n",
       "      <td>UK</td>\n",
       "      <td>NaN</td>\n",
       "      <td>NaN</td>\n",
       "      <td>NaN</td>\n",
       "      <td>0</td>\n",
       "      <td>NaN</td>\n",
       "      <td>NaN</td>\n",
       "      <td>False</td>\n",
       "      <td>NaN</td>\n",
       "      <td>(d) None of the funds appropriated or otherwis...</td>\n",
       "      <td>Authority</td>\n",
       "    </tr>\n",
       "  </tbody>\n",
       "</table>\n",
       "</div>"
      ]
     },
     "execution_count": 31,
     "metadata": {},
     "output_type": "execute_result"
    }
   ],
   "execution_count": 31
  },
  {
   "metadata": {},
   "cell_type": "code",
   "outputs": [],
   "execution_count": null,
   "source": "annotate_df = annotate_df[annotate_df['label'] != 'Error'].reset_index(drop=True)",
   "id": "c7fa64463af2bf5d"
  },
  {
   "metadata": {
    "ExecuteTime": {
     "end_time": "2025-04-13T00:14:41.834282Z",
     "start_time": "2025-04-13T00:14:41.816041Z"
    }
   },
   "cell_type": "code",
   "source": "annotate_df['label'].value_counts()",
   "id": "9dbbd906b55f7ab4",
   "outputs": [
    {
     "data": {
      "text/plain": [
       "label\n",
       "Authority     1801\n",
       "Amending       304\n",
       "Definition     225\n",
       "Rescinding      11\n",
       "Exception        7\n",
       "Precedent        5\n",
       "Name: count, dtype: int64"
      ]
     },
     "execution_count": 33,
     "metadata": {},
     "output_type": "execute_result"
    }
   ],
   "execution_count": 33
  },
  {
   "metadata": {
    "ExecuteTime": {
     "end_time": "2025-04-13T00:17:05.015487Z",
     "start_time": "2025-04-13T00:17:04.861890Z"
    }
   },
   "cell_type": "code",
   "source": [
    "# Save the annotated dataframe\n",
    "annotate_df.to_csv(\"Annotated_Citations.csv\", index=False)"
   ],
   "id": "a77ef0ed021aa10e",
   "outputs": [],
   "execution_count": 34
  },
  {
   "metadata": {
    "ExecuteTime": {
     "end_time": "2025-04-13T00:17:07.838009Z",
     "start_time": "2025-04-13T00:17:07.622503Z"
    }
   },
   "cell_type": "code",
   "source": [
    "# Save the holdout dataframe\n",
    "holdout_df.to_csv(\"Holdout_Citations.csv\", index=False)"
   ],
   "id": "15f46c482f396027",
   "outputs": [],
   "execution_count": 35
  }
 ],
 "metadata": {
  "kernelspec": {
   "display_name": "Python 3",
   "language": "python",
   "name": "python3"
  },
  "language_info": {
   "codemirror_mode": {
    "name": "ipython",
    "version": 2
   },
   "file_extension": ".py",
   "mimetype": "text/x-python",
   "name": "python",
   "nbconvert_exporter": "python",
   "pygments_lexer": "ipython2",
   "version": "2.7.6"
  }
 },
 "nbformat": 4,
 "nbformat_minor": 5
}
