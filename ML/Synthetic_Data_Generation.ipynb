{
 "cells": [
  {
   "cell_type": "code",
   "id": "initial_id",
   "metadata": {
    "collapsed": true,
    "ExecuteTime": {
     "end_time": "2025-04-13T15:56:35.272977Z",
     "start_time": "2025-04-13T15:56:19.442496Z"
    }
   },
   "source": [
    "import numpy as np\n",
    "import pandas as pd\n",
    "from openai import OpenAI\n",
    "from concurrent.futures import ThreadPoolExecutor\n",
    "from tqdm import tqdm\n",
    "import random\n",
    "from transformers import AutoTokenizer, AutoModel\n",
    "from sklearn.metrics.pairwise import cosine_similarity\n",
    "import torch\n",
    "from imblearn.over_sampling import SMOTE\n",
    "from sklearn.preprocessing import LabelEncoder\n",
    "import nlpaug.augmenter.word as naw \n",
    "import warnings"
   ],
   "outputs": [],
   "execution_count": 1
  },
  {
   "metadata": {
    "ExecuteTime": {
     "end_time": "2025-04-13T15:56:37.281553Z",
     "start_time": "2025-04-13T15:56:37.278902Z"
    }
   },
   "cell_type": "code",
   "source": "warnings.filterwarnings(\"ignore\")",
   "id": "af211e7f545229c1",
   "outputs": [],
   "execution_count": 2
  },
  {
   "metadata": {
    "ExecuteTime": {
     "end_time": "2025-04-13T15:56:38.395396Z",
     "start_time": "2025-04-13T15:56:38.267093Z"
    }
   },
   "cell_type": "code",
   "source": [
    "final_labeled_data = pd.read_csv('Final_Citations_Label.csv')\n",
    "final_labeled_data.head(5)"
   ],
   "id": "6f8ddd0d0c9ebbb1",
   "outputs": [
    {
     "data": {
      "text/plain": [
       "           text startPosition endPosition       normCite citeType altCite  \\\n",
       "0       1 USC 1          3479        3486        1 usc 1      USC     NaN   \n",
       "1  or direction        188589      188601  or dir ection      NaN     NaN   \n",
       "2     42 U.S.C.        245062      245071         42 usc      USC     NaN   \n",
       "3   19 USC 2434        110102      110113    19 usc 2434      USC     NaN   \n",
       "4     2 FAM 154        343562      343571  [2] 1 fam 154       UK     NaN   \n",
       "\n",
       "  pinCiteStr pageRangeStr nodeId      section sectionAndSubSection  \\\n",
       "0        NaN          NaN      0      1 USC 1              1 USC 1   \n",
       "1        NaN          NaN      0          NaN                  NaN   \n",
       "2        NaN          NaN      0   42 U.S.C.            42 U.S.C.    \n",
       "3        NaN          NaN      0  19 USC 2434          19 USC 2434   \n",
       "4        NaN          NaN      0          NaN                  NaN   \n",
       "\n",
       "  isShortCite chunk_id                                            context  \\\n",
       "0       FALSE        0  Division A—Military Construction, Veterans Aff...   \n",
       "1       False      9.0  16353(b)). <paragraph display-inline=\"no-displ...   \n",
       "2       False        4  Domestic Food Programs Food and Nutrition Serv...   \n",
       "3       False     16.0  4655)— <clause display-inline=\"no-display-inli...   \n",
       "4       False      NaN  (d) None of the funds appropriated or otherwis...   \n",
       "\n",
       "  original_label  \n",
       "0     Definition  \n",
       "1     Definition  \n",
       "2      Authority  \n",
       "3       Amending  \n",
       "4      Authority  "
      ],
      "text/html": [
       "<div>\n",
       "<style scoped>\n",
       "    .dataframe tbody tr th:only-of-type {\n",
       "        vertical-align: middle;\n",
       "    }\n",
       "\n",
       "    .dataframe tbody tr th {\n",
       "        vertical-align: top;\n",
       "    }\n",
       "\n",
       "    .dataframe thead th {\n",
       "        text-align: right;\n",
       "    }\n",
       "</style>\n",
       "<table border=\"1\" class=\"dataframe\">\n",
       "  <thead>\n",
       "    <tr style=\"text-align: right;\">\n",
       "      <th></th>\n",
       "      <th>text</th>\n",
       "      <th>startPosition</th>\n",
       "      <th>endPosition</th>\n",
       "      <th>normCite</th>\n",
       "      <th>citeType</th>\n",
       "      <th>altCite</th>\n",
       "      <th>pinCiteStr</th>\n",
       "      <th>pageRangeStr</th>\n",
       "      <th>nodeId</th>\n",
       "      <th>section</th>\n",
       "      <th>sectionAndSubSection</th>\n",
       "      <th>isShortCite</th>\n",
       "      <th>chunk_id</th>\n",
       "      <th>context</th>\n",
       "      <th>original_label</th>\n",
       "    </tr>\n",
       "  </thead>\n",
       "  <tbody>\n",
       "    <tr>\n",
       "      <th>0</th>\n",
       "      <td>1 USC 1</td>\n",
       "      <td>3479</td>\n",
       "      <td>3486</td>\n",
       "      <td>1 usc 1</td>\n",
       "      <td>USC</td>\n",
       "      <td>NaN</td>\n",
       "      <td>NaN</td>\n",
       "      <td>NaN</td>\n",
       "      <td>0</td>\n",
       "      <td>1 USC 1</td>\n",
       "      <td>1 USC 1</td>\n",
       "      <td>FALSE</td>\n",
       "      <td>0</td>\n",
       "      <td>Division A—Military Construction, Veterans Aff...</td>\n",
       "      <td>Definition</td>\n",
       "    </tr>\n",
       "    <tr>\n",
       "      <th>1</th>\n",
       "      <td>or direction</td>\n",
       "      <td>188589</td>\n",
       "      <td>188601</td>\n",
       "      <td>or dir ection</td>\n",
       "      <td>NaN</td>\n",
       "      <td>NaN</td>\n",
       "      <td>NaN</td>\n",
       "      <td>NaN</td>\n",
       "      <td>0</td>\n",
       "      <td>NaN</td>\n",
       "      <td>NaN</td>\n",
       "      <td>False</td>\n",
       "      <td>9.0</td>\n",
       "      <td>16353(b)). &lt;paragraph display-inline=\"no-displ...</td>\n",
       "      <td>Definition</td>\n",
       "    </tr>\n",
       "    <tr>\n",
       "      <th>2</th>\n",
       "      <td>42 U.S.C.</td>\n",
       "      <td>245062</td>\n",
       "      <td>245071</td>\n",
       "      <td>42 usc</td>\n",
       "      <td>USC</td>\n",
       "      <td>NaN</td>\n",
       "      <td>NaN</td>\n",
       "      <td>NaN</td>\n",
       "      <td>0</td>\n",
       "      <td>42 U.S.C.</td>\n",
       "      <td>42 U.S.C.</td>\n",
       "      <td>False</td>\n",
       "      <td>4</td>\n",
       "      <td>Domestic Food Programs Food and Nutrition Serv...</td>\n",
       "      <td>Authority</td>\n",
       "    </tr>\n",
       "    <tr>\n",
       "      <th>3</th>\n",
       "      <td>19 USC 2434</td>\n",
       "      <td>110102</td>\n",
       "      <td>110113</td>\n",
       "      <td>19 usc 2434</td>\n",
       "      <td>USC</td>\n",
       "      <td>NaN</td>\n",
       "      <td>NaN</td>\n",
       "      <td>NaN</td>\n",
       "      <td>0</td>\n",
       "      <td>19 USC 2434</td>\n",
       "      <td>19 USC 2434</td>\n",
       "      <td>False</td>\n",
       "      <td>16.0</td>\n",
       "      <td>4655)— &lt;clause display-inline=\"no-display-inli...</td>\n",
       "      <td>Amending</td>\n",
       "    </tr>\n",
       "    <tr>\n",
       "      <th>4</th>\n",
       "      <td>2 FAM 154</td>\n",
       "      <td>343562</td>\n",
       "      <td>343571</td>\n",
       "      <td>[2] 1 fam 154</td>\n",
       "      <td>UK</td>\n",
       "      <td>NaN</td>\n",
       "      <td>NaN</td>\n",
       "      <td>NaN</td>\n",
       "      <td>0</td>\n",
       "      <td>NaN</td>\n",
       "      <td>NaN</td>\n",
       "      <td>False</td>\n",
       "      <td>NaN</td>\n",
       "      <td>(d) None of the funds appropriated or otherwis...</td>\n",
       "      <td>Authority</td>\n",
       "    </tr>\n",
       "  </tbody>\n",
       "</table>\n",
       "</div>"
      ]
     },
     "execution_count": 3,
     "metadata": {},
     "output_type": "execute_result"
    }
   ],
   "execution_count": 3
  },
  {
   "metadata": {
    "ExecuteTime": {
     "end_time": "2025-04-13T15:56:40.238399Z",
     "start_time": "2025-04-13T15:56:40.228030Z"
    }
   },
   "cell_type": "code",
   "source": "final_labeled_data[\"original_label\"].value_counts()",
   "id": "f1cc8c29567d1118",
   "outputs": [
    {
     "data": {
      "text/plain": [
       "original_label\n",
       "Authority     7295\n",
       "Amending      1302\n",
       "Definition     855\n",
       "Rescinding      11\n",
       "Exception        7\n",
       "Precedent        5\n",
       "Name: count, dtype: int64"
      ]
     },
     "execution_count": 4,
     "metadata": {},
     "output_type": "execute_result"
    }
   ],
   "execution_count": 4
  },
  {
   "metadata": {
    "ExecuteTime": {
     "end_time": "2025-04-13T15:56:47.691086Z",
     "start_time": "2025-04-13T15:56:47.685196Z"
    }
   },
   "cell_type": "code",
   "source": [
    "class_counts = final_labeled_data[\"original_label\"].value_counts()\n",
    "max_count = class_counts.max()"
   ],
   "id": "4c7674ebe788866b",
   "outputs": [],
   "execution_count": 5
  },
  {
   "metadata": {
    "ExecuteTime": {
     "end_time": "2025-04-13T15:57:01.116046Z",
     "start_time": "2025-04-13T15:57:01.110826Z"
    }
   },
   "cell_type": "code",
   "source": [
    "labels_to_generate = {\n",
    "    'Amending': 5993,\n",
    "    'Definition': 6440,\n",
    "    'Rescinding': 7284,\n",
    "    'Exception': 7288,\n",
    "    'Precedent': 7290\n",
    "}"
   ],
   "id": "ec65386ea64386f5",
   "outputs": [],
   "execution_count": 6
  },
  {
   "metadata": {
    "ExecuteTime": {
     "end_time": "2025-04-13T15:57:14.960408Z",
     "start_time": "2025-04-13T15:57:14.931334Z"
    }
   },
   "cell_type": "code",
   "source": [
    "label_dfs = {\n",
    "    label: final_labeled_data[final_labeled_data[\"original_label\"] == label].reset_index(drop=True)\n",
    "    for label in labels_to_generate.keys()\n",
    "}"
   ],
   "id": "ecfb2896aa6352cc",
   "outputs": [],
   "execution_count": 7
  },
  {
   "metadata": {
    "ExecuteTime": {
     "end_time": "2025-04-13T15:57:20.905400Z",
     "start_time": "2025-04-13T15:57:20.894857Z"
    }
   },
   "cell_type": "code",
   "source": [
    "label_context_counts = {label: len(label_dfs[label]) for label in label_dfs}\n",
    "label_context_counts"
   ],
   "id": "753b3e27f7cff773",
   "outputs": [
    {
     "data": {
      "text/plain": [
       "{'Amending': 1302,\n",
       " 'Definition': 855,\n",
       " 'Rescinding': 11,\n",
       " 'Exception': 7,\n",
       " 'Precedent': 5}"
      ]
     },
     "execution_count": 8,
     "metadata": {},
     "output_type": "execute_result"
    }
   ],
   "execution_count": 8
  },
  {
   "metadata": {
    "ExecuteTime": {
     "end_time": "2025-04-13T15:58:17.154198Z",
     "start_time": "2025-04-13T15:58:16.840870Z"
    }
   },
   "cell_type": "code",
   "source": "client = OpenAI(base_url=\"http://localhost:8051/v1\", api_key=\"lm-studio\")",
   "id": "df89a77561163d80",
   "outputs": [],
   "execution_count": 10
  },
  {
   "metadata": {
    "ExecuteTime": {
     "end_time": "2025-04-13T16:05:44.111790Z",
     "start_time": "2025-04-13T16:02:51.557649Z"
    }
   },
   "cell_type": "code",
   "source": [
    "def generate_synthetic_context(label, seed_context):\n",
    "    prompt = f\"\"\"\n",
    "You are a legislative domain expert with 20+ years of experience drafting, interpreting, and classifying U.S. Congressional bill language.\n",
    "\n",
    "Your task is to generate a new, original and human-like legislative context that falls under the category \"{label}\". Use the given seed context as inspiration, but do not copy or reuse any phrases directly.\n",
    "\n",
    "---\n",
    "\n",
    "Seed Context:\n",
    "\\\"\\\"\\\"{seed_context}\\\"\\\"\\\"\n",
    "\n",
    "Instructions:\n",
    "- Produce a realistic legislative paragraph or section, written in the style of U.S. Congressional bills.\n",
    "- The text must belong to the label: \"{label}\" based on legal function.\n",
    "- Only return the new legislative context (no explanations).\n",
    "\n",
    "Label Guidance:\n",
    "- Amending: Modify existing statute.\n",
    "- Rescinding: Repeal or nullify.\n",
    "- Definition: Define terms clearly.\n",
    "- Precedent: Reference past legal rules.\n",
    "- Exception: Override or exempt rules.\n",
    "\"\"\"\n",
    "    response = client.chat.completions.create(\n",
    "        model=\"lmstudio-community/Meta-Llama-3-1-8B-Instruct-GGUF\",\n",
    "        messages=[{\"role\": \"user\", \"content\": prompt}],\n",
    "        temperature=0.7,\n",
    "        max_tokens=300\n",
    "    )\n",
    "    return response.choices[0].message.content.strip()\n",
    "\n",
    "# Seed context examples for each label\n",
    "seed_contexts = {\n",
    "    \"Amending\": \"Section 102 of the Fair Housing Act is amended by inserting after subsection (c) the following new subsection.\",\n",
    "    \"Rescinding\": \"Section 12 of the 2015 Education Reform Act is hereby repealed in its entirety.\",\n",
    "    \"Definition\": \"'Cybersecurity threat' means any unauthorized access to data or systems as defined in section 302(b).\",\n",
    "    \"Precedent\": \"Pursuant to the ruling in Brown v. Board of Education, all segregated facilities are deemed unconstitutional.\",\n",
    "    \"Exception\": \"Notwithstanding section 4(b), individuals under the age of 18 shall be exempt from the tax penalty.\"\n",
    "}\n",
    "\n",
    "# Generate 5 examples per label\n",
    "synthetic_data = []\n",
    "for label, seed in seed_contexts.items():\n",
    "    print(f\"🔧 Generating 5 examples for label: {label}\")\n",
    "    for i in tqdm(range(5)):\n",
    "        try:\n",
    "            new_context = generate_synthetic_context(label, seed)\n",
    "            synthetic_data.append({\n",
    "                \"text\": f\"Synthetic-{label[:4].capitalize()}-{i+1:03}\", \n",
    "                \"context\": new_context,\n",
    "                \"original_label\": label\n",
    "            })\n",
    "        except Exception as e:\n",
    "            print(f\"Failed for {label}: {e}\")"
   ],
   "id": "cdbcef2af864a5b2",
   "outputs": [
    {
     "name": "stdout",
     "output_type": "stream",
     "text": [
      "🔧 Generating 5 examples for label: Amending\n"
     ]
    },
    {
     "name": "stderr",
     "output_type": "stream",
     "text": [
      "100%|██████████| 5/5 [00:54<00:00, 10.97s/it]\n"
     ]
    },
    {
     "name": "stdout",
     "output_type": "stream",
     "text": [
      "🔧 Generating 5 examples for label: Rescinding\n"
     ]
    },
    {
     "name": "stderr",
     "output_type": "stream",
     "text": [
      "100%|██████████| 5/5 [00:37<00:00,  7.52s/it]\n"
     ]
    },
    {
     "name": "stdout",
     "output_type": "stream",
     "text": [
      "🔧 Generating 5 examples for label: Definition\n"
     ]
    },
    {
     "name": "stderr",
     "output_type": "stream",
     "text": [
      "100%|██████████| 5/5 [00:28<00:00,  5.61s/it]\n"
     ]
    },
    {
     "name": "stdout",
     "output_type": "stream",
     "text": [
      "🔧 Generating 5 examples for label: Precedent\n"
     ]
    },
    {
     "name": "stderr",
     "output_type": "stream",
     "text": [
      "100%|██████████| 5/5 [00:24<00:00,  4.94s/it]\n"
     ]
    },
    {
     "name": "stdout",
     "output_type": "stream",
     "text": [
      "🔧 Generating 5 examples for label: Exception\n"
     ]
    },
    {
     "name": "stderr",
     "output_type": "stream",
     "text": [
      "100%|██████████| 5/5 [00:27<00:00,  5.47s/it]\n"
     ]
    }
   ],
   "execution_count": 14
  },
  {
   "metadata": {
    "ExecuteTime": {
     "end_time": "2025-04-13T16:05:59.606409Z",
     "start_time": "2025-04-13T16:05:59.581146Z"
    }
   },
   "cell_type": "code",
   "source": [
    "synthetic_df = pd.DataFrame(synthetic_data)\n",
    "synthetic_df.head(5)"
   ],
   "id": "327ab194dca6b22f",
   "outputs": [
    {
     "data": {
      "text/plain": [
       "                 text                                            context  \\\n",
       "0  Synthetic-Amen-001  Section 305 of the Public Health Service Act i...   \n",
       "1  Synthetic-Amen-002  Section 305 of the Clean Air Act is amended by...   \n",
       "2  Synthetic-Amen-003  Section 307 of the Federal Trade Commission Ac...   \n",
       "3  Synthetic-Amen-004  Section 305 of the Clean Water Act is modified...   \n",
       "4  Synthetic-Amen-005  \"Section 305 of the Public Lands Act is amende...   \n",
       "\n",
       "  original_label  \n",
       "0       Amending  \n",
       "1       Amending  \n",
       "2       Amending  \n",
       "3       Amending  \n",
       "4       Amending  "
      ],
      "text/html": [
       "<div>\n",
       "<style scoped>\n",
       "    .dataframe tbody tr th:only-of-type {\n",
       "        vertical-align: middle;\n",
       "    }\n",
       "\n",
       "    .dataframe tbody tr th {\n",
       "        vertical-align: top;\n",
       "    }\n",
       "\n",
       "    .dataframe thead th {\n",
       "        text-align: right;\n",
       "    }\n",
       "</style>\n",
       "<table border=\"1\" class=\"dataframe\">\n",
       "  <thead>\n",
       "    <tr style=\"text-align: right;\">\n",
       "      <th></th>\n",
       "      <th>text</th>\n",
       "      <th>context</th>\n",
       "      <th>original_label</th>\n",
       "    </tr>\n",
       "  </thead>\n",
       "  <tbody>\n",
       "    <tr>\n",
       "      <th>0</th>\n",
       "      <td>Synthetic-Amen-001</td>\n",
       "      <td>Section 305 of the Public Health Service Act i...</td>\n",
       "      <td>Amending</td>\n",
       "    </tr>\n",
       "    <tr>\n",
       "      <th>1</th>\n",
       "      <td>Synthetic-Amen-002</td>\n",
       "      <td>Section 305 of the Clean Air Act is amended by...</td>\n",
       "      <td>Amending</td>\n",
       "    </tr>\n",
       "    <tr>\n",
       "      <th>2</th>\n",
       "      <td>Synthetic-Amen-003</td>\n",
       "      <td>Section 307 of the Federal Trade Commission Ac...</td>\n",
       "      <td>Amending</td>\n",
       "    </tr>\n",
       "    <tr>\n",
       "      <th>3</th>\n",
       "      <td>Synthetic-Amen-004</td>\n",
       "      <td>Section 305 of the Clean Water Act is modified...</td>\n",
       "      <td>Amending</td>\n",
       "    </tr>\n",
       "    <tr>\n",
       "      <th>4</th>\n",
       "      <td>Synthetic-Amen-005</td>\n",
       "      <td>\"Section 305 of the Public Lands Act is amende...</td>\n",
       "      <td>Amending</td>\n",
       "    </tr>\n",
       "  </tbody>\n",
       "</table>\n",
       "</div>"
      ]
     },
     "execution_count": 16,
     "metadata": {},
     "output_type": "execute_result"
    }
   ],
   "execution_count": 16
  },
  {
   "metadata": {
    "ExecuteTime": {
     "end_time": "2025-04-13T16:06:14.519780Z",
     "start_time": "2025-04-13T16:06:14.451452Z"
    }
   },
   "cell_type": "code",
   "source": "combined_df = pd.concat([final_labeled_data, synthetic_df], ignore_index=True)",
   "id": "c1b6f6e3962cf799",
   "outputs": [],
   "execution_count": 17
  },
  {
   "metadata": {
    "ExecuteTime": {
     "end_time": "2025-04-13T16:06:39.223249Z",
     "start_time": "2025-04-13T16:06:39.212065Z"
    }
   },
   "cell_type": "code",
   "source": "combined_df.shape",
   "id": "7931b38db22bd631",
   "outputs": [
    {
     "data": {
      "text/plain": [
       "(9500, 15)"
      ]
     },
     "execution_count": 18,
     "metadata": {},
     "output_type": "execute_result"
    }
   ],
   "execution_count": 18
  },
  {
   "metadata": {
    "ExecuteTime": {
     "end_time": "2025-04-13T16:07:01.496410Z",
     "start_time": "2025-04-13T16:07:01.396049Z"
    }
   },
   "cell_type": "code",
   "source": "combined_df['combined'] = combined_df['text'].fillna(\"None\") + \" [SEP] \" + combined_df['context'].fillna(\"None\")",
   "id": "4453d55da0f9c9ea",
   "outputs": [],
   "execution_count": 19
  },
  {
   "metadata": {
    "ExecuteTime": {
     "end_time": "2025-04-13T16:07:13.744978Z",
     "start_time": "2025-04-13T16:07:13.716898Z"
    }
   },
   "cell_type": "code",
   "source": [
    "label_encoder  = LabelEncoder()\n",
    "combined_df['encoded_label'] = label_encoder .fit_transform(combined_df['original_label'])"
   ],
   "id": "adb548fa998bf3d4",
   "outputs": [],
   "execution_count": 20
  },
  {
   "metadata": {
    "ExecuteTime": {
     "end_time": "2025-04-13T16:08:46.778472Z",
     "start_time": "2025-04-13T16:08:44.796151Z"
    }
   },
   "cell_type": "code",
   "source": [
    "model_path = \"legal_model/checkpoint-1475\"\n",
    "tokenizer = AutoTokenizer.from_pretrained(model_path)\n",
    "model = AutoModel.from_pretrained(model_path).eval().cuda()"
   ],
   "id": "446fd6b71f1d7230",
   "outputs": [
    {
     "name": "stderr",
     "output_type": "stream",
     "text": [
      "Some weights of RobertaModel were not initialized from the model checkpoint at legal_model/checkpoint-1475 and are newly initialized: ['roberta.pooler.dense.bias', 'roberta.pooler.dense.weight']\n",
      "You should probably TRAIN this model on a down-stream task to be able to use it for predictions and inference.\n"
     ]
    }
   ],
   "execution_count": 21
  },
  {
   "metadata": {
    "ExecuteTime": {
     "end_time": "2025-04-13T16:08:49.435817Z",
     "start_time": "2025-04-13T16:08:49.426590Z"
    }
   },
   "cell_type": "code",
   "source": [
    "def get_embedding(text):\n",
    "    inputs = tokenizer(text, return_tensors=\"pt\", truncation=True, padding=True, max_length=512)\n",
    "    inputs = {k: v.cuda() for k, v in inputs.items()}\n",
    "    with torch.no_grad():\n",
    "        outputs = model(**inputs)\n",
    "    return outputs.last_hidden_state.mean(dim=1).squeeze().cpu().numpy()"
   ],
   "id": "46ebc84f9d808233",
   "outputs": [],
   "execution_count": 22
  },
  {
   "metadata": {
    "ExecuteTime": {
     "end_time": "2025-04-13T16:10:54.992068Z",
     "start_time": "2025-04-13T16:09:09.176763Z"
    }
   },
   "cell_type": "code",
   "source": [
    "embeddings = np.array([get_embedding(txt) for txt in tqdm(combined_df[\"combined\"], desc=\"Embedding full dataset\")])\n",
    "labels = combined_df[\"encoded_label\"].values"
   ],
   "id": "115712845f0d6da",
   "outputs": [
    {
     "name": "stderr",
     "output_type": "stream",
     "text": [
      "Embedding full dataset: 100%|██████████| 9500/9500 [01:45<00:00, 89.80it/s] \n"
     ]
    }
   ],
   "execution_count": 24
  },
  {
   "metadata": {
    "ExecuteTime": {
     "end_time": "2025-04-13T16:10:57.094577Z",
     "start_time": "2025-04-13T16:10:57.081650Z"
    }
   },
   "cell_type": "code",
   "source": [
    "target_count = 7295\n",
    "class_distribution = combined_df['encoded_label'].value_counts().to_dict()\n",
    "sampling_strategy = {cls: target_count for cls, count in class_distribution.items() if count < target_count}"
   ],
   "id": "dc4b8cdb5f1263d",
   "outputs": [],
   "execution_count": 25
  },
  {
   "metadata": {
    "ExecuteTime": {
     "end_time": "2025-04-13T16:11:15.638363Z",
     "start_time": "2025-04-13T16:11:14.485387Z"
    }
   },
   "cell_type": "code",
   "source": [
    "smote = SMOTE(sampling_strategy=sampling_strategy, random_state=5934, k_neighbors=5)\n",
    "X_res, y_res = smote.fit_resample(embeddings, labels)"
   ],
   "id": "52cc45d7d0e7e882",
   "outputs": [],
   "execution_count": 26
  },
  {
   "metadata": {
    "ExecuteTime": {
     "end_time": "2025-04-13T16:11:23.429082Z",
     "start_time": "2025-04-13T16:11:22.067693Z"
    }
   },
   "cell_type": "code",
   "source": [
    "X_syn = X_res[len(embeddings):]\n",
    "y_syn = y_res[len(embeddings):]\n",
    "sim = cosine_similarity(X_syn, embeddings)\n",
    "closest_indices = sim.argmax(axis=1)"
   ],
   "id": "ea23e8a1fd677110",
   "outputs": [],
   "execution_count": 27
  },
  {
   "metadata": {
    "ExecuteTime": {
     "end_time": "2025-04-13T16:11:54.824041Z",
     "start_time": "2025-04-13T16:11:54.808332Z"
    }
   },
   "cell_type": "code",
   "source": [
    "synthetic_df = pd.DataFrame({\n",
    "    \"text\": combined_df.loc[closest_indices, \"text\"].values,\n",
    "    \"context\": combined_df.loc[closest_indices, \"context\"].values,\n",
    "    \"original_label\": label_encoder.inverse_transform(y_syn),\n",
    "    \"synthetic\": True\n",
    "})#%%\n"
   ],
   "id": "599f535821c8e108",
   "outputs": [],
   "execution_count": 28
  },
  {
   "metadata": {
    "ExecuteTime": {
     "end_time": "2025-04-13T16:12:12.822079Z",
     "start_time": "2025-04-13T16:12:12.801610Z"
    }
   },
   "cell_type": "code",
   "source": [
    "combined_df['synthetic'] = False\n",
    "final_df = pd.concat([combined_df, synthetic_df], ignore_index=True)"
   ],
   "id": "507fadb4e43743a2",
   "outputs": [],
   "execution_count": 29
  },
  {
   "metadata": {
    "ExecuteTime": {
     "end_time": "2025-04-13T16:12:21.421118Z",
     "start_time": "2025-04-13T16:12:21.415999Z"
    }
   },
   "cell_type": "code",
   "source": "final_df.shape",
   "id": "bb9a73d3df0566d5",
   "outputs": [
    {
     "data": {
      "text/plain": [
       "(43770, 18)"
      ]
     },
     "execution_count": 30,
     "metadata": {},
     "output_type": "execute_result"
    }
   ],
   "execution_count": 30
  },
  {
   "metadata": {
    "ExecuteTime": {
     "end_time": "2025-04-13T16:12:45.028839Z",
     "start_time": "2025-04-13T16:12:44.995903Z"
    }
   },
   "cell_type": "code",
   "source": "final_df.info()",
   "id": "aa602c2fd9a316d7",
   "outputs": [
    {
     "name": "stdout",
     "output_type": "stream",
     "text": [
      "<class 'pandas.core.frame.DataFrame'>\n",
      "RangeIndex: 43770 entries, 0 to 43769\n",
      "Data columns (total 18 columns):\n",
      " #   Column                Non-Null Count  Dtype  \n",
      "---  ------                --------------  -----  \n",
      " 0   text                  43766 non-null  object \n",
      " 1   startPosition         9471 non-null   object \n",
      " 2   endPosition           9471 non-null   object \n",
      " 3   normCite              9471 non-null   object \n",
      " 4   citeType              9286 non-null   object \n",
      " 5   altCite               1991 non-null   object \n",
      " 6   pinCiteStr            5 non-null      object \n",
      " 7   pageRangeStr          5 non-null      object \n",
      " 8   nodeId                9471 non-null   object \n",
      " 9   section               6729 non-null   object \n",
      " 10  sectionAndSubSection  6729 non-null   object \n",
      " 11  isShortCite           9471 non-null   object \n",
      " 12  chunk_id              6391 non-null   object \n",
      " 13  context               43766 non-null  object \n",
      " 14  original_label        43770 non-null  object \n",
      " 15  combined              9500 non-null   object \n",
      " 16  encoded_label         9500 non-null   float64\n",
      " 17  synthetic             43770 non-null  bool   \n",
      "dtypes: bool(1), float64(1), object(16)\n",
      "memory usage: 5.7+ MB\n"
     ]
    }
   ],
   "execution_count": 31
  },
  {
   "metadata": {
    "ExecuteTime": {
     "end_time": "2025-04-13T16:12:57.376550Z",
     "start_time": "2025-04-13T16:12:57.371114Z"
    }
   },
   "cell_type": "code",
   "source": "final_df['original_label'].value_counts()",
   "id": "498b6e3f1269757f",
   "outputs": [
    {
     "data": {
      "text/plain": [
       "original_label\n",
       "Definition    7295\n",
       "Authority     7295\n",
       "Amending      7295\n",
       "Exception     7295\n",
       "Rescinding    7295\n",
       "Precedent     7295\n",
       "Name: count, dtype: int64"
      ]
     },
     "execution_count": 32,
     "metadata": {},
     "output_type": "execute_result"
    }
   ],
   "execution_count": 32
  },
  {
   "metadata": {
    "ExecuteTime": {
     "end_time": "2025-04-13T16:13:59.623151Z",
     "start_time": "2025-04-13T16:13:59.610442Z"
    }
   },
   "cell_type": "code",
   "source": "final_df.drop(columns=['encoded_label', 'combined', 'synthetic'], inplace=True)",
   "id": "3540b3925d17c293",
   "outputs": [],
   "execution_count": 34
  },
  {
   "metadata": {
    "ExecuteTime": {
     "end_time": "2025-04-13T16:14:11.603637Z",
     "start_time": "2025-04-13T16:14:11.580920Z"
    }
   },
   "cell_type": "code",
   "source": "final_df.head(5)",
   "id": "381a3deb66cc3437",
   "outputs": [
    {
     "data": {
      "text/plain": [
       "           text startPosition endPosition       normCite citeType altCite  \\\n",
       "0       1 USC 1          3479        3486        1 usc 1      USC     NaN   \n",
       "1  or direction        188589      188601  or dir ection      NaN     NaN   \n",
       "2     42 U.S.C.        245062      245071         42 usc      USC     NaN   \n",
       "3   19 USC 2434        110102      110113    19 usc 2434      USC     NaN   \n",
       "4     2 FAM 154        343562      343571  [2] 1 fam 154       UK     NaN   \n",
       "\n",
       "  pinCiteStr pageRangeStr nodeId      section sectionAndSubSection  \\\n",
       "0        NaN          NaN      0      1 USC 1              1 USC 1   \n",
       "1        NaN          NaN      0          NaN                  NaN   \n",
       "2        NaN          NaN      0   42 U.S.C.            42 U.S.C.    \n",
       "3        NaN          NaN      0  19 USC 2434          19 USC 2434   \n",
       "4        NaN          NaN      0          NaN                  NaN   \n",
       "\n",
       "  isShortCite chunk_id                                            context  \\\n",
       "0       FALSE        0  Division A—Military Construction, Veterans Aff...   \n",
       "1       False      9.0  16353(b)). <paragraph display-inline=\"no-displ...   \n",
       "2       False        4  Domestic Food Programs Food and Nutrition Serv...   \n",
       "3       False     16.0  4655)— <clause display-inline=\"no-display-inli...   \n",
       "4       False      NaN  (d) None of the funds appropriated or otherwis...   \n",
       "\n",
       "  original_label  \n",
       "0     Definition  \n",
       "1     Definition  \n",
       "2      Authority  \n",
       "3       Amending  \n",
       "4      Authority  "
      ],
      "text/html": [
       "<div>\n",
       "<style scoped>\n",
       "    .dataframe tbody tr th:only-of-type {\n",
       "        vertical-align: middle;\n",
       "    }\n",
       "\n",
       "    .dataframe tbody tr th {\n",
       "        vertical-align: top;\n",
       "    }\n",
       "\n",
       "    .dataframe thead th {\n",
       "        text-align: right;\n",
       "    }\n",
       "</style>\n",
       "<table border=\"1\" class=\"dataframe\">\n",
       "  <thead>\n",
       "    <tr style=\"text-align: right;\">\n",
       "      <th></th>\n",
       "      <th>text</th>\n",
       "      <th>startPosition</th>\n",
       "      <th>endPosition</th>\n",
       "      <th>normCite</th>\n",
       "      <th>citeType</th>\n",
       "      <th>altCite</th>\n",
       "      <th>pinCiteStr</th>\n",
       "      <th>pageRangeStr</th>\n",
       "      <th>nodeId</th>\n",
       "      <th>section</th>\n",
       "      <th>sectionAndSubSection</th>\n",
       "      <th>isShortCite</th>\n",
       "      <th>chunk_id</th>\n",
       "      <th>context</th>\n",
       "      <th>original_label</th>\n",
       "    </tr>\n",
       "  </thead>\n",
       "  <tbody>\n",
       "    <tr>\n",
       "      <th>0</th>\n",
       "      <td>1 USC 1</td>\n",
       "      <td>3479</td>\n",
       "      <td>3486</td>\n",
       "      <td>1 usc 1</td>\n",
       "      <td>USC</td>\n",
       "      <td>NaN</td>\n",
       "      <td>NaN</td>\n",
       "      <td>NaN</td>\n",
       "      <td>0</td>\n",
       "      <td>1 USC 1</td>\n",
       "      <td>1 USC 1</td>\n",
       "      <td>FALSE</td>\n",
       "      <td>0</td>\n",
       "      <td>Division A—Military Construction, Veterans Aff...</td>\n",
       "      <td>Definition</td>\n",
       "    </tr>\n",
       "    <tr>\n",
       "      <th>1</th>\n",
       "      <td>or direction</td>\n",
       "      <td>188589</td>\n",
       "      <td>188601</td>\n",
       "      <td>or dir ection</td>\n",
       "      <td>NaN</td>\n",
       "      <td>NaN</td>\n",
       "      <td>NaN</td>\n",
       "      <td>NaN</td>\n",
       "      <td>0</td>\n",
       "      <td>NaN</td>\n",
       "      <td>NaN</td>\n",
       "      <td>False</td>\n",
       "      <td>9.0</td>\n",
       "      <td>16353(b)). &lt;paragraph display-inline=\"no-displ...</td>\n",
       "      <td>Definition</td>\n",
       "    </tr>\n",
       "    <tr>\n",
       "      <th>2</th>\n",
       "      <td>42 U.S.C.</td>\n",
       "      <td>245062</td>\n",
       "      <td>245071</td>\n",
       "      <td>42 usc</td>\n",
       "      <td>USC</td>\n",
       "      <td>NaN</td>\n",
       "      <td>NaN</td>\n",
       "      <td>NaN</td>\n",
       "      <td>0</td>\n",
       "      <td>42 U.S.C.</td>\n",
       "      <td>42 U.S.C.</td>\n",
       "      <td>False</td>\n",
       "      <td>4</td>\n",
       "      <td>Domestic Food Programs Food and Nutrition Serv...</td>\n",
       "      <td>Authority</td>\n",
       "    </tr>\n",
       "    <tr>\n",
       "      <th>3</th>\n",
       "      <td>19 USC 2434</td>\n",
       "      <td>110102</td>\n",
       "      <td>110113</td>\n",
       "      <td>19 usc 2434</td>\n",
       "      <td>USC</td>\n",
       "      <td>NaN</td>\n",
       "      <td>NaN</td>\n",
       "      <td>NaN</td>\n",
       "      <td>0</td>\n",
       "      <td>19 USC 2434</td>\n",
       "      <td>19 USC 2434</td>\n",
       "      <td>False</td>\n",
       "      <td>16.0</td>\n",
       "      <td>4655)— &lt;clause display-inline=\"no-display-inli...</td>\n",
       "      <td>Amending</td>\n",
       "    </tr>\n",
       "    <tr>\n",
       "      <th>4</th>\n",
       "      <td>2 FAM 154</td>\n",
       "      <td>343562</td>\n",
       "      <td>343571</td>\n",
       "      <td>[2] 1 fam 154</td>\n",
       "      <td>UK</td>\n",
       "      <td>NaN</td>\n",
       "      <td>NaN</td>\n",
       "      <td>NaN</td>\n",
       "      <td>0</td>\n",
       "      <td>NaN</td>\n",
       "      <td>NaN</td>\n",
       "      <td>False</td>\n",
       "      <td>NaN</td>\n",
       "      <td>(d) None of the funds appropriated or otherwis...</td>\n",
       "      <td>Authority</td>\n",
       "    </tr>\n",
       "  </tbody>\n",
       "</table>\n",
       "</div>"
      ]
     },
     "execution_count": 35,
     "metadata": {},
     "output_type": "execute_result"
    }
   ],
   "execution_count": 35
  },
  {
   "metadata": {
    "ExecuteTime": {
     "end_time": "2025-04-13T16:14:32.118903Z",
     "start_time": "2025-04-13T16:14:32.112366Z"
    }
   },
   "cell_type": "code",
   "source": "final_df.tail(5)",
   "id": "7ba53fdf727e6c78",
   "outputs": [
    {
     "data": {
      "text/plain": [
       "                                                    text startPosition  \\\n",
       "43765                                 Synthetic-Resc-003           NaN   \n",
       "43766                                                936           NaN   \n",
       "43767                       40 CFR part 60 subparts CCCC           NaN   \n",
       "43768  section 27 of the Stevenson-Wydler Technology ...           NaN   \n",
       "43769   section 872 of the Homeland Security Act of 2002           NaN   \n",
       "\n",
       "      endPosition normCite citeType altCite pinCiteStr pageRangeStr nodeId  \\\n",
       "43765         NaN      NaN      NaN     NaN        NaN          NaN    NaN   \n",
       "43766         NaN      NaN      NaN     NaN        NaN          NaN    NaN   \n",
       "43767         NaN      NaN      NaN     NaN        NaN          NaN    NaN   \n",
       "43768         NaN      NaN      NaN     NaN        NaN          NaN    NaN   \n",
       "43769         NaN      NaN      NaN     NaN        NaN          NaN    NaN   \n",
       "\n",
       "      section sectionAndSubSection isShortCite chunk_id  \\\n",
       "43765     NaN                  NaN         NaN      NaN   \n",
       "43766     NaN                  NaN         NaN      NaN   \n",
       "43767     NaN                  NaN         NaN      NaN   \n",
       "43768     NaN                  NaN         NaN      NaN   \n",
       "43769     NaN                  NaN         NaN      NaN   \n",
       "\n",
       "                                                 context original_label  \n",
       "43765  Section 305 of the 2002 Environmental Protecti...     Rescinding  \n",
       "43766  (f) Effective date Except with respect to subp...     Rescinding  \n",
       "43767  To support the key role that forests in the Un...     Rescinding  \n",
       "43768  The Department of Commerce, the National Aeron...     Rescinding  \n",
       "43769  1448). <section display-inline=\"no-display-inl...     Rescinding  "
      ],
      "text/html": [
       "<div>\n",
       "<style scoped>\n",
       "    .dataframe tbody tr th:only-of-type {\n",
       "        vertical-align: middle;\n",
       "    }\n",
       "\n",
       "    .dataframe tbody tr th {\n",
       "        vertical-align: top;\n",
       "    }\n",
       "\n",
       "    .dataframe thead th {\n",
       "        text-align: right;\n",
       "    }\n",
       "</style>\n",
       "<table border=\"1\" class=\"dataframe\">\n",
       "  <thead>\n",
       "    <tr style=\"text-align: right;\">\n",
       "      <th></th>\n",
       "      <th>text</th>\n",
       "      <th>startPosition</th>\n",
       "      <th>endPosition</th>\n",
       "      <th>normCite</th>\n",
       "      <th>citeType</th>\n",
       "      <th>altCite</th>\n",
       "      <th>pinCiteStr</th>\n",
       "      <th>pageRangeStr</th>\n",
       "      <th>nodeId</th>\n",
       "      <th>section</th>\n",
       "      <th>sectionAndSubSection</th>\n",
       "      <th>isShortCite</th>\n",
       "      <th>chunk_id</th>\n",
       "      <th>context</th>\n",
       "      <th>original_label</th>\n",
       "    </tr>\n",
       "  </thead>\n",
       "  <tbody>\n",
       "    <tr>\n",
       "      <th>43765</th>\n",
       "      <td>Synthetic-Resc-003</td>\n",
       "      <td>NaN</td>\n",
       "      <td>NaN</td>\n",
       "      <td>NaN</td>\n",
       "      <td>NaN</td>\n",
       "      <td>NaN</td>\n",
       "      <td>NaN</td>\n",
       "      <td>NaN</td>\n",
       "      <td>NaN</td>\n",
       "      <td>NaN</td>\n",
       "      <td>NaN</td>\n",
       "      <td>NaN</td>\n",
       "      <td>NaN</td>\n",
       "      <td>Section 305 of the 2002 Environmental Protecti...</td>\n",
       "      <td>Rescinding</td>\n",
       "    </tr>\n",
       "    <tr>\n",
       "      <th>43766</th>\n",
       "      <td>936</td>\n",
       "      <td>NaN</td>\n",
       "      <td>NaN</td>\n",
       "      <td>NaN</td>\n",
       "      <td>NaN</td>\n",
       "      <td>NaN</td>\n",
       "      <td>NaN</td>\n",
       "      <td>NaN</td>\n",
       "      <td>NaN</td>\n",
       "      <td>NaN</td>\n",
       "      <td>NaN</td>\n",
       "      <td>NaN</td>\n",
       "      <td>NaN</td>\n",
       "      <td>(f) Effective date Except with respect to subp...</td>\n",
       "      <td>Rescinding</td>\n",
       "    </tr>\n",
       "    <tr>\n",
       "      <th>43767</th>\n",
       "      <td>40 CFR part 60 subparts CCCC</td>\n",
       "      <td>NaN</td>\n",
       "      <td>NaN</td>\n",
       "      <td>NaN</td>\n",
       "      <td>NaN</td>\n",
       "      <td>NaN</td>\n",
       "      <td>NaN</td>\n",
       "      <td>NaN</td>\n",
       "      <td>NaN</td>\n",
       "      <td>NaN</td>\n",
       "      <td>NaN</td>\n",
       "      <td>NaN</td>\n",
       "      <td>NaN</td>\n",
       "      <td>To support the key role that forests in the Un...</td>\n",
       "      <td>Rescinding</td>\n",
       "    </tr>\n",
       "    <tr>\n",
       "      <th>43768</th>\n",
       "      <td>section 27 of the Stevenson-Wydler Technology ...</td>\n",
       "      <td>NaN</td>\n",
       "      <td>NaN</td>\n",
       "      <td>NaN</td>\n",
       "      <td>NaN</td>\n",
       "      <td>NaN</td>\n",
       "      <td>NaN</td>\n",
       "      <td>NaN</td>\n",
       "      <td>NaN</td>\n",
       "      <td>NaN</td>\n",
       "      <td>NaN</td>\n",
       "      <td>NaN</td>\n",
       "      <td>NaN</td>\n",
       "      <td>The Department of Commerce, the National Aeron...</td>\n",
       "      <td>Rescinding</td>\n",
       "    </tr>\n",
       "    <tr>\n",
       "      <th>43769</th>\n",
       "      <td>section 872 of the Homeland Security Act of 2002</td>\n",
       "      <td>NaN</td>\n",
       "      <td>NaN</td>\n",
       "      <td>NaN</td>\n",
       "      <td>NaN</td>\n",
       "      <td>NaN</td>\n",
       "      <td>NaN</td>\n",
       "      <td>NaN</td>\n",
       "      <td>NaN</td>\n",
       "      <td>NaN</td>\n",
       "      <td>NaN</td>\n",
       "      <td>NaN</td>\n",
       "      <td>NaN</td>\n",
       "      <td>1448). &lt;section display-inline=\"no-display-inl...</td>\n",
       "      <td>Rescinding</td>\n",
       "    </tr>\n",
       "  </tbody>\n",
       "</table>\n",
       "</div>"
      ]
     },
     "execution_count": 36,
     "metadata": {},
     "output_type": "execute_result"
    }
   ],
   "execution_count": 36
  },
  {
   "metadata": {
    "ExecuteTime": {
     "end_time": "2025-04-13T16:47:24.725813Z",
     "start_time": "2025-04-13T16:47:23.926312Z"
    }
   },
   "cell_type": "code",
   "source": "final_df.to_csv('Final_Citations_Labels_Smote.csv', index=False)",
   "id": "d5e795924a197389",
   "outputs": [],
   "execution_count": 38
  }
 ],
 "metadata": {
  "kernelspec": {
   "display_name": "Python 3",
   "language": "python",
   "name": "python3"
  },
  "language_info": {
   "codemirror_mode": {
    "name": "ipython",
    "version": 2
   },
   "file_extension": ".py",
   "mimetype": "text/x-python",
   "name": "python",
   "nbconvert_exporter": "python",
   "pygments_lexer": "ipython2",
   "version": "2.7.6"
  }
 },
 "nbformat": 4,
 "nbformat_minor": 5
}
