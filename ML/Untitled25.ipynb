{
  "cells": [
    {
      "cell_type": "code",
      "source": [
        "%cd LawGorithmML/citations/citations/sample_bills"
      ],
      "metadata": {
        "id": "mZskQgceF8rX",
        "outputId": "7c67e75a-da61-4e82-a024-e2d494a45555",
        "colab": {
          "base_uri": "https://localhost:8080/"
        }
      },
      "id": "mZskQgceF8rX",
      "execution_count": 13,
      "outputs": [
        {
          "output_type": "stream",
          "name": "stdout",
          "text": [
            "/content/LawGorithmML/citations/citations/sample_bills\n"
          ]
        }
      ]
    },
    {
      "cell_type": "code",
      "execution_count": 7,
      "id": "31dc8a52",
      "metadata": {
        "id": "31dc8a52"
      },
      "outputs": [],
      "source": [
        "from transformers import AutoModelForSequenceClassification, AutoTokenizer, Trainer, TrainingArguments\n",
        "import torch\n",
        "from datasets import Dataset\n",
        "import os\n",
        "import glob\n",
        "import pandas as pd\n",
        "import json\n",
        "import re\n",
        "from sklearn.model_selection import train_test_split\n",
        "from sklearn.preprocessing import LabelEncoder\n",
        "from sklearn.metrics import classification_report, confusion_matrix\n",
        "import numpy as np\n",
        "import concurrent.futures"
      ]
    },
    {
      "cell_type": "code",
      "execution_count": 14,
      "id": "f75b0829",
      "metadata": {
        "id": "f75b0829",
        "outputId": "2c3c308a-b744-4fac-a238-b52ad9765fe8",
        "colab": {
          "base_uri": "https://localhost:8080/"
        }
      },
      "outputs": [
        {
          "output_type": "stream",
          "name": "stdout",
          "text": [
            "Loaded 10 bills.\n"
          ]
        }
      ],
      "source": [
        "# Define the path to the full-text bills\n",
        "bills_path = \"/content/LawGorithmML/citations/citations/sample_bills\"\n",
        "\n",
        "# Get all text files in the directory\n",
        "bill_files = sorted(glob.glob(os.path.join(bills_path, \"*.txt\")))[:10]\n",
        "\n",
        "bill_texts = {}\n",
        "def load_file(file):\n",
        "    with open(file, \"r\", encoding=\"utf-8\") as f:\n",
        "        return os.path.basename(file), f.read()\n",
        "\n",
        "# Load 10 bills using multi-threading\n",
        "with concurrent.futures.ThreadPoolExecutor() as executor:\n",
        "    results = executor.map(load_file, bill_files)\n",
        "\n",
        "bill_texts = dict(results)\n",
        "\n",
        "print(f\"Loaded {len(bill_texts)} bills.\")"
      ]
    },
    {
      "cell_type": "code",
      "execution_count": null,
      "id": "47c1d4b2",
      "metadata": {
        "id": "47c1d4b2",
        "outputId": "1112c19f-20fa-4fe1-d442-23c6246477be"
      },
      "outputs": [
        {
          "data": {
            "text/html": [
              "<div>\n",
              "<style scoped>\n",
              "    .dataframe tbody tr th:only-of-type {\n",
              "        vertical-align: middle;\n",
              "    }\n",
              "\n",
              "    .dataframe tbody tr th {\n",
              "        vertical-align: top;\n",
              "    }\n",
              "\n",
              "    .dataframe thead th {\n",
              "        text-align: right;\n",
              "    }\n",
              "</style>\n",
              "<table border=\"1\" class=\"dataframe\">\n",
              "  <thead>\n",
              "    <tr style=\"text-align: right;\">\n",
              "      <th></th>\n",
              "      <th>text</th>\n",
              "      <th>startPosition</th>\n",
              "      <th>endPosition</th>\n",
              "      <th>normCite</th>\n",
              "      <th>citeType</th>\n",
              "      <th>altCite</th>\n",
              "      <th>pinCiteStr</th>\n",
              "      <th>pageRangeStr</th>\n",
              "      <th>nodeId</th>\n",
              "      <th>section</th>\n",
              "      <th>sectionAndSubSection</th>\n",
              "      <th>isShortCite</th>\n",
              "      <th>chunk_id</th>\n",
              "    </tr>\n",
              "  </thead>\n",
              "  <tbody>\n",
              "    <tr>\n",
              "      <th>0</th>\n",
              "      <td>PROVISIONS Sec. 201</td>\n",
              "      <td>2581</td>\n",
              "      <td>2600</td>\n",
              "      <td></td>\n",
              "      <td></td>\n",
              "      <td></td>\n",
              "      <td></td>\n",
              "      <td></td>\n",
              "      <td>0</td>\n",
              "      <td></td>\n",
              "      <td></td>\n",
              "      <td>False</td>\n",
              "      <td>0.0</td>\n",
              "    </tr>\n",
              "    <tr>\n",
              "      <th>1</th>\n",
              "      <td>Sec. 202. Recycling Infrastructure and Accessi...</td>\n",
              "      <td>2643</td>\n",
              "      <td>2713</td>\n",
              "      <td></td>\n",
              "      <td></td>\n",
              "      <td></td>\n",
              "      <td></td>\n",
              "      <td></td>\n",
              "      <td>0</td>\n",
              "      <td></td>\n",
              "      <td></td>\n",
              "      <td>False</td>\n",
              "      <td>0.0</td>\n",
              "    </tr>\n",
              "    <tr>\n",
              "      <th>2</th>\n",
              "      <td>Sec. 204. Reauthorization of Diesel Emissions ...</td>\n",
              "      <td>2766</td>\n",
              "      <td>2893</td>\n",
              "      <td></td>\n",
              "      <td></td>\n",
              "      <td></td>\n",
              "      <td></td>\n",
              "      <td></td>\n",
              "      <td>0</td>\n",
              "      <td></td>\n",
              "      <td></td>\n",
              "      <td>False</td>\n",
              "      <td>0.0</td>\n",
              "    </tr>\n",
              "    <tr>\n",
              "      <th>3</th>\n",
              "      <td>TITLE IV—VETERANS Sec. 401. Protecting Regular...</td>\n",
              "      <td>3293</td>\n",
              "      <td>3434</td>\n",
              "      <td></td>\n",
              "      <td></td>\n",
              "      <td></td>\n",
              "      <td></td>\n",
              "      <td></td>\n",
              "      <td>0</td>\n",
              "      <td></td>\n",
              "      <td></td>\n",
              "      <td>False</td>\n",
              "      <td>0.0</td>\n",
              "    </tr>\n",
              "    <tr>\n",
              "      <th>4</th>\n",
              "      <td>Sec. 111</td>\n",
              "      <td>4039</td>\n",
              "      <td>4047</td>\n",
              "      <td></td>\n",
              "      <td></td>\n",
              "      <td></td>\n",
              "      <td></td>\n",
              "      <td></td>\n",
              "      <td>0</td>\n",
              "      <td></td>\n",
              "      <td></td>\n",
              "      <td>True</td>\n",
              "      <td>0.0</td>\n",
              "    </tr>\n",
              "  </tbody>\n",
              "</table>\n",
              "</div>"
            ],
            "text/plain": [
              "                                                text  startPosition  \\\n",
              "0                                PROVISIONS Sec. 201           2581   \n",
              "1  Sec. 202. Recycling Infrastructure and Accessi...           2643   \n",
              "2  Sec. 204. Reauthorization of Diesel Emissions ...           2766   \n",
              "3  TITLE IV—VETERANS Sec. 401. Protecting Regular...           3293   \n",
              "4                                           Sec. 111           4039   \n",
              "\n",
              "   endPosition normCite citeType altCite pinCiteStr pageRangeStr  nodeId  \\\n",
              "0         2600                                                         0   \n",
              "1         2713                                                         0   \n",
              "2         2893                                                         0   \n",
              "3         3434                                                         0   \n",
              "4         4047                                                         0   \n",
              "\n",
              "  section sectionAndSubSection  isShortCite  chunk_id  \n",
              "0                                     False       0.0  \n",
              "1                                     False       0.0  \n",
              "2                                     False       0.0  \n",
              "3                                     False       0.0  \n",
              "4                                      True       0.0  "
            ]
          },
          "execution_count": 3,
          "metadata": {},
          "output_type": "execute_result"
        }
      ],
      "source": [
        "json_path = \"C:/Users/ralph/Downloads/citations/citations/citations/\"\n",
        "\n",
        "# Get all JSON files in the directory\n",
        "json_files = glob.glob(os.path.join(json_path, \"*.json\"))\n",
        "\n",
        "# Load citation data\n",
        "citations = []\n",
        "for file in json_files:\n",
        "    with open(file, \"r\", encoding=\"utf-8\") as f:\n",
        "        data = json.load(f)\n",
        "        citations.extend(data)  # Combine all JSON data\n",
        "# Convert to DataFrame\n",
        "df_citations = pd.DataFrame(citations)\n",
        "\n",
        "# Show structure\n",
        "df_citations.head()\n"
      ]
    },
    {
      "cell_type": "code",
      "execution_count": null,
      "id": "e619180d",
      "metadata": {
        "id": "e619180d",
        "outputId": "63618615-a17b-4cfd-e8c7-7a0223b36087"
      },
      "outputs": [
        {
          "data": {
            "text/html": [
              "<div>\n",
              "<style scoped>\n",
              "    .dataframe tbody tr th:only-of-type {\n",
              "        vertical-align: middle;\n",
              "    }\n",
              "\n",
              "    .dataframe tbody tr th {\n",
              "        vertical-align: top;\n",
              "    }\n",
              "\n",
              "    .dataframe thead th {\n",
              "        text-align: right;\n",
              "    }\n",
              "</style>\n",
              "<table border=\"1\" class=\"dataframe\">\n",
              "  <thead>\n",
              "    <tr style=\"text-align: right;\">\n",
              "      <th></th>\n",
              "      <th>text</th>\n",
              "      <th>startPosition</th>\n",
              "      <th>endPosition</th>\n",
              "      <th>normCite</th>\n",
              "      <th>citeType</th>\n",
              "      <th>altCite</th>\n",
              "      <th>pinCiteStr</th>\n",
              "      <th>pageRangeStr</th>\n",
              "      <th>nodeId</th>\n",
              "      <th>section</th>\n",
              "      <th>sectionAndSubSection</th>\n",
              "      <th>isShortCite</th>\n",
              "      <th>chunk_id</th>\n",
              "      <th>context</th>\n",
              "    </tr>\n",
              "  </thead>\n",
              "  <tbody>\n",
              "    <tr>\n",
              "      <th>4</th>\n",
              "      <td>Sec. 111</td>\n",
              "      <td>4039</td>\n",
              "      <td>4047</td>\n",
              "      <td></td>\n",
              "      <td></td>\n",
              "      <td></td>\n",
              "      <td></td>\n",
              "      <td></td>\n",
              "      <td>0</td>\n",
              "      <td></td>\n",
              "      <td></td>\n",
              "      <td>True</td>\n",
              "      <td>0.0</td>\n",
              "      <td>State studies and HHS report on costs of provi...</td>\n",
              "    </tr>\n",
              "    <tr>\n",
              "      <th>5</th>\n",
              "      <td>Sec. 112</td>\n",
              "      <td>4145</td>\n",
              "      <td>4153</td>\n",
              "      <td></td>\n",
              "      <td></td>\n",
              "      <td></td>\n",
              "      <td></td>\n",
              "      <td></td>\n",
              "      <td>0</td>\n",
              "      <td></td>\n",
              "      <td></td>\n",
              "      <td>True</td>\n",
              "      <td>0.0</td>\n",
              "      <td>proportionate share hospital allotments.\\n    ...</td>\n",
              "    </tr>\n",
              "    <tr>\n",
              "      <th>7</th>\n",
              "      <td>Sec. 602</td>\n",
              "      <td>4648</td>\n",
              "      <td>4656</td>\n",
              "      <td></td>\n",
              "      <td></td>\n",
              "      <td></td>\n",
              "      <td></td>\n",
              "      <td></td>\n",
              "      <td>0</td>\n",
              "      <td></td>\n",
              "      <td></td>\n",
              "      <td>True</td>\n",
              "      <td>0.0</td>\n",
              "      <td>gnment within the Community Service Employment...</td>\n",
              "    </tr>\n",
              "    <tr>\n",
              "      <th>13</th>\n",
              "      <td>Sec. 604</td>\n",
              "      <td>6331</td>\n",
              "      <td>6339</td>\n",
              "      <td>33 usc 1384</td>\n",
              "      <td>USC</td>\n",
              "      <td>33 usc 1384</td>\n",
              "      <td></td>\n",
              "      <td></td>\n",
              "      <td>0</td>\n",
              "      <td></td>\n",
              "      <td></td>\n",
              "      <td>True</td>\n",
              "      <td>0.0</td>\n",
              "      <td>ERS\\n               Sec. 601. Older Americans ...</td>\n",
              "    </tr>\n",
              "    <tr>\n",
              "      <th>17</th>\n",
              "      <td>Sec. 1003</td>\n",
              "      <td>6813</td>\n",
              "      <td>6822</td>\n",
              "      <td></td>\n",
              "      <td></td>\n",
              "      <td></td>\n",
              "      <td></td>\n",
              "      <td></td>\n",
              "      <td>0</td>\n",
              "      <td></td>\n",
              "      <td></td>\n",
              "      <td>True</td>\n",
              "      <td>0.0</td>\n",
              "      <td>partments.\\n               &lt;toc-entry align=\"l...</td>\n",
              "    </tr>\n",
              "  </tbody>\n",
              "</table>\n",
              "</div>"
            ],
            "text/plain": [
              "         text  startPosition  endPosition     normCite citeType      altCite  \\\n",
              "4    Sec. 111           4039         4047                                      \n",
              "5    Sec. 112           4145         4153                                      \n",
              "7    Sec. 602           4648         4656                                      \n",
              "13   Sec. 604           6331         6339  33 usc 1384      USC  33 usc 1384   \n",
              "17  Sec. 1003           6813         6822                                      \n",
              "\n",
              "   pinCiteStr pageRangeStr  nodeId section sectionAndSubSection  isShortCite  \\\n",
              "4                                0                                      True   \n",
              "5                                0                                      True   \n",
              "7                                0                                      True   \n",
              "13                               0                                      True   \n",
              "17                               0                                      True   \n",
              "\n",
              "    chunk_id                                            context  \n",
              "4        0.0  State studies and HHS report on costs of provi...  \n",
              "5        0.0  proportionate share hospital allotments.\\n    ...  \n",
              "7        0.0  gnment within the Community Service Employment...  \n",
              "13       0.0  ERS\\n               Sec. 601. Older Americans ...  \n",
              "17       0.0  partments.\\n               <toc-entry align=\"l...  "
            ]
          },
          "execution_count": 4,
          "metadata": {},
          "output_type": "execute_result"
        }
      ],
      "source": [
        "# Define context window size (adjust as needed)\n",
        "CONTEXT_WINDOW = 200  # Number of characters before and after citation\n",
        "\n",
        "# Function to find citation context in any bill\n",
        "def extract_context_any_bill(citation_text):\n",
        "    for bill_name, bill_text in bill_texts.items():\n",
        "        match = re.search(re.escape(citation_text), bill_text)\n",
        "        if match:\n",
        "            start, end = match.start(), match.end()\n",
        "            before = bill_text[max(0, start - CONTEXT_WINDOW): start]\n",
        "            after = bill_text[end: min(len(bill_text), end + CONTEXT_WINDOW)]\n",
        "            return before + citation_text + after  # Return first found match\n",
        "    return None  # No match found\n",
        "\n",
        "# Apply the function to extract citation contexts\n",
        "df_citations[\"context\"] = df_citations[\"text\"].apply(extract_context_any_bill)\n",
        "\n",
        "# Drop rows where no context was found\n",
        "df_citations = df_citations.dropna(subset=[\"context\"])\n",
        "\n",
        "# Show some extracted contexts\n",
        "df_citations.head()"
      ]
    },
    {
      "cell_type": "code",
      "execution_count": null,
      "id": "41d5e9d6",
      "metadata": {
        "id": "41d5e9d6",
        "outputId": "91d3c6d7-ab56-4dba-8d5d-65448a670810"
      },
      "outputs": [
        {
          "data": {
            "text/html": [
              "<div>\n",
              "<style scoped>\n",
              "    .dataframe tbody tr th:only-of-type {\n",
              "        vertical-align: middle;\n",
              "    }\n",
              "\n",
              "    .dataframe tbody tr th {\n",
              "        vertical-align: top;\n",
              "    }\n",
              "\n",
              "    .dataframe thead th {\n",
              "        text-align: right;\n",
              "    }\n",
              "</style>\n",
              "<table border=\"1\" class=\"dataframe\">\n",
              "  <thead>\n",
              "    <tr style=\"text-align: right;\">\n",
              "      <th></th>\n",
              "      <th>text</th>\n",
              "      <th>label</th>\n",
              "    </tr>\n",
              "  </thead>\n",
              "  <tbody>\n",
              "    <tr>\n",
              "      <th>19023</th>\n",
              "      <td>\\n                  \\n                  \\n ...</td>\n",
              "      <td>17</td>\n",
              "    </tr>\n",
              "    <tr>\n",
              "      <th>3758</th>\n",
              "      <td>enforcement activities authorized or approved...</td>\n",
              "      <td>17</td>\n",
              "    </tr>\n",
              "    <tr>\n",
              "      <th>13016</th>\n",
              "      <td>For payments to departments of agric...</td>\n",
              "      <td>17</td>\n",
              "    </tr>\n",
              "    <tr>\n",
              "      <th>34372</th>\n",
              "      <td>fference between—\\n                           ...</td>\n",
              "      <td>0</td>\n",
              "    </tr>\n",
              "    <tr>\n",
              "      <th>25509</th>\n",
              "      <td>0101 of the Disaster Relief and Recovery Suppl...</td>\n",
              "      <td>0</td>\n",
              "    </tr>\n",
              "  </tbody>\n",
              "</table>\n",
              "</div>"
            ],
            "text/plain": [
              "                                                    text  label\n",
              "19023     \\n                  \\n                  \\n ...     17\n",
              "3758    enforcement activities authorized or approved...     17\n",
              "13016            For payments to departments of agric...     17\n",
              "34372  fference between—\\n                           ...      0\n",
              "25509  0101 of the Disaster Relief and Recovery Suppl...      0"
            ]
          },
          "execution_count": 5,
          "metadata": {},
          "output_type": "execute_result"
        }
      ],
      "source": [
        "# Keep only necessary columns\n",
        "df = df_citations[[\"context\", \"citeType\"]]\n",
        "df = df.rename(columns={\"context\": \"input_text\", \"citeType\": \"label\"})\n",
        "\n",
        "# Encode labels as numbers\n",
        "label_encoder = LabelEncoder()\n",
        "df[\"label\"] = label_encoder.fit_transform(df[\"label\"])\n",
        "\n",
        "# Split into train/test sets\n",
        "train_texts, test_texts, train_labels, test_labels = train_test_split(\n",
        "    df[\"input_text\"], df[\"label\"], test_size=0.2, random_state=42\n",
        ")\n",
        "\n",
        "# Convert into Pandas DataFrame format\n",
        "train_df = pd.DataFrame({\"text\": train_texts, \"label\": train_labels})\n",
        "test_df = pd.DataFrame({\"text\": test_texts, \"label\": test_labels})\n",
        "\n",
        "# Show some training examples\n",
        "train_df.head()"
      ]
    },
    {
      "cell_type": "code",
      "execution_count": null,
      "id": "1e123243",
      "metadata": {
        "id": "1e123243",
        "outputId": "56d61e0b-a90c-42cd-fef7-a86f5fd29bd6",
        "colab": {
          "referenced_widgets": [
            "48aafaf6b8f746a2ad853f702f9b6117",
            "d67f18a8bf5a479f87ffdfbb3724acce",
            "ea46178eec2b451d99fe8cdc451ac846"
          ]
        }
      },
      "outputs": [
        {
          "data": {
            "application/vnd.jupyter.widget-view+json": {
              "model_id": "48aafaf6b8f746a2ad853f702f9b6117",
              "version_major": 2,
              "version_minor": 0
            },
            "text/plain": [
              "Map:   0%|          | 0/28271 [00:00<?, ? examples/s]"
            ]
          },
          "metadata": {},
          "output_type": "display_data"
        },
        {
          "data": {
            "application/vnd.jupyter.widget-view+json": {
              "model_id": "d67f18a8bf5a479f87ffdfbb3724acce",
              "version_major": 2,
              "version_minor": 0
            },
            "text/plain": [
              "Map:   0%|          | 0/7068 [00:00<?, ? examples/s]"
            ]
          },
          "metadata": {},
          "output_type": "display_data"
        },
        {
          "name": "stderr",
          "output_type": "stream",
          "text": [
            "Some weights of BertForSequenceClassification were not initialized from the model checkpoint at nlpaueb/legal-bert-base-uncased and are newly initialized: ['classifier.bias', 'classifier.weight']\n",
            "You should probably TRAIN this model on a down-stream task to be able to use it for predictions and inference.\n"
          ]
        },
        {
          "data": {
            "application/vnd.jupyter.widget-view+json": {
              "model_id": "ea46178eec2b451d99fe8cdc451ac846",
              "version_major": 2,
              "version_minor": 0
            },
            "text/plain": [
              "model.safetensors:   0%|          | 0.00/440M [00:00<?, ?B/s]"
            ]
          },
          "metadata": {},
          "output_type": "display_data"
        },
        {
          "name": "stderr",
          "output_type": "stream",
          "text": [
            "C:\\Users\\ralph\\anaconda3\\lib\\site-packages\\huggingface_hub\\file_download.py:142: UserWarning: `huggingface_hub` cache-system uses symlinks by default to efficiently store duplicated files but your machine does not support them in C:\\Users\\ralph\\.cache\\huggingface\\hub\\models--nlpaueb--legal-bert-base-uncased. Caching files will still work but in a degraded version that might require more space on your disk. This warning can be disabled by setting the `HF_HUB_DISABLE_SYMLINKS_WARNING` environment variable. For more details, see https://huggingface.co/docs/huggingface_hub/how-to-cache#limitations.\n",
            "To support symlinks on Windows, you either need to activate Developer Mode or to run Python as an administrator. In order to activate developer mode, see this article: https://docs.microsoft.com/en-us/windows/apps/get-started/enable-your-device-for-development\n",
            "  warnings.warn(message)\n"
          ]
        }
      ],
      "source": [
        "# Choose model: either LegalBERT or LegalRoBERTa\n",
        "MODEL_NAME = \"nlpaueb/legal-bert-base-uncased\"\n",
        "tokenizer = AutoTokenizer.from_pretrained(MODEL_NAME)\n",
        "\n",
        "# Tokenization function\n",
        "def tokenize_function(examples):\n",
        "    return tokenizer(examples[\"text\"], padding=\"max_length\", truncation=True)\n",
        "\n",
        "# Convert Pandas DF to Hugging Face Dataset\n",
        "train_dataset = Dataset.from_pandas(train_df)\n",
        "test_dataset = Dataset.from_pandas(test_df)\n",
        "\n",
        "# Tokenize dataset\n",
        "tokenized_train = train_dataset.map(tokenize_function, batched=True)\n",
        "tokenized_test = test_dataset.map(tokenize_function, batched=True)\n",
        "\n",
        "# Load pre-trained model for classification\n",
        "model = AutoModelForSequenceClassification.from_pretrained(MODEL_NAME, num_labels=len(label_encoder.classes_))"
      ]
    },
    {
      "cell_type": "code",
      "execution_count": null,
      "id": "9e09f88f",
      "metadata": {
        "id": "9e09f88f",
        "outputId": "c9b56879-941e-4116-feb2-3e2358afa3d5"
      },
      "outputs": [
        {
          "name": "stderr",
          "output_type": "stream",
          "text": [
            "C:\\Users\\ralph\\anaconda3\\lib\\site-packages\\transformers\\training_args.py:1568: FutureWarning: `evaluation_strategy` is deprecated and will be removed in version 4.46 of 🤗 Transformers. Use `eval_strategy` instead\n",
            "  warnings.warn(\n"
          ]
        },
        {
          "data": {
            "text/html": [
              "\n",
              "    <div>\n",
              "      \n",
              "      <progress value='150' max='10602' style='width:300px; height:20px; vertical-align: middle;'></progress>\n",
              "      [  150/10602 56:09 < 66:05:25, 0.04 it/s, Epoch 0.04/3]\n",
              "    </div>\n",
              "    <table border=\"1\" class=\"dataframe\">\n",
              "  <thead>\n",
              " <tr style=\"text-align: left;\">\n",
              "      <th>Epoch</th>\n",
              "      <th>Training Loss</th>\n",
              "      <th>Validation Loss</th>\n",
              "    </tr>\n",
              "  </thead>\n",
              "  <tbody>\n",
              "  </tbody>\n",
              "</table><p>"
            ],
            "text/plain": [
              "<IPython.core.display.HTML object>"
            ]
          },
          "metadata": {},
          "output_type": "display_data"
        }
      ],
      "source": [
        "# Define training arguments\n",
        "training_args = TrainingArguments(\n",
        "    output_dir=\"./results\",\n",
        "    evaluation_strategy=\"epoch\",\n",
        "    learning_rate=2e-5,\n",
        "    per_device_train_batch_size=2,\n",
        "    per_device_eval_batch_size=2,\n",
        "    num_train_epochs=3,\n",
        "    weight_decay=0.01,\n",
        "    logging_dir='./logs',\n",
        ")\n",
        "\n",
        "# Trainer\n",
        "trainer = Trainer(\n",
        "    model=model,\n",
        "    args=training_args,\n",
        "    train_dataset=tokenized_train,\n",
        "    eval_dataset=tokenized_test,\n",
        ")\n",
        "\n",
        "# Train the model\n",
        "trainer.train()\n"
      ]
    },
    {
      "cell_type": "code",
      "execution_count": null,
      "id": "b8f5d0f6",
      "metadata": {
        "id": "b8f5d0f6",
        "outputId": "7f4f4f83-7c27-405f-b66b-f95e3d79b553"
      },
      "outputs": [
        {
          "name": "stdout",
          "output_type": "stream",
          "text": [
            "Requirement already satisfied: transformers in c:\\users\\ralph\\anaconda3\\lib\\site-packages (4.46.3)\n",
            "Requirement already satisfied: accelerate in c:\\users\\ralph\\anaconda3\\lib\\site-packages (1.0.1)\n",
            "Requirement already satisfied: torch in c:\\users\\ralph\\anaconda3\\lib\\site-packages (2.4.1)\n",
            "Requirement already satisfied: pyyaml>=5.1 in c:\\users\\ralph\\anaconda3\\lib\\site-packages (from transformers) (5.4.1)\n",
            "Requirement already satisfied: filelock in c:\\users\\ralph\\anaconda3\\lib\\site-packages (from transformers) (3.0.12)\n",
            "Requirement already satisfied: requests in c:\\users\\ralph\\anaconda3\\lib\\site-packages (from transformers) (2.32.3)\n",
            "Requirement already satisfied: safetensors>=0.4.1 in c:\\users\\ralph\\anaconda3\\lib\\site-packages (from transformers) (0.5.3)\n",
            "Requirement already satisfied: tokenizers<0.21,>=0.20 in c:\\users\\ralph\\anaconda3\\lib\\site-packages (from transformers) (0.20.3)\n",
            "Requirement already satisfied: packaging>=20.0 in c:\\users\\ralph\\anaconda3\\lib\\site-packages (from transformers) (21.0)\n",
            "Requirement already satisfied: tqdm>=4.27 in c:\\users\\ralph\\anaconda3\\lib\\site-packages (from transformers) (4.67.1)\n",
            "Requirement already satisfied: numpy>=1.17 in c:\\users\\ralph\\anaconda3\\lib\\site-packages (from transformers) (1.22.4)\n",
            "Requirement already satisfied: regex!=2019.12.17 in c:\\users\\ralph\\anaconda3\\lib\\site-packages (from transformers) (2021.8.3)\n",
            "Requirement already satisfied: huggingface-hub<1.0,>=0.23.2 in c:\\users\\ralph\\anaconda3\\lib\\site-packages (from transformers) (0.29.1)\n",
            "Requirement already satisfied: psutil in c:\\users\\ralph\\anaconda3\\lib\\site-packages (from accelerate) (5.8.0)\n",
            "Requirement already satisfied: networkx in c:\\users\\ralph\\anaconda3\\lib\\site-packages (from torch) (2.6.3)\n",
            "Requirement already satisfied: fsspec in c:\\users\\ralph\\anaconda3\\lib\\site-packages (from torch) (2024.9.0)\n",
            "Requirement already satisfied: typing-extensions>=4.8.0 in c:\\users\\ralph\\anaconda3\\lib\\site-packages (from torch) (4.12.2)\n",
            "Requirement already satisfied: jinja2 in c:\\users\\ralph\\anaconda3\\lib\\site-packages (from torch) (3.0.1)\n",
            "Requirement already satisfied: sympy in c:\\users\\ralph\\anaconda3\\lib\\site-packages (from torch) (1.8)\n",
            "Requirement already satisfied: pyparsing>=2.0.2 in c:\\users\\ralph\\anaconda3\\lib\\site-packages (from packaging>=20.0->transformers) (2.4.7)\n",
            "Requirement already satisfied: colorama in c:\\users\\ralph\\anaconda3\\lib\\site-packages (from tqdm>=4.27->transformers) (0.4.4)\n",
            "Requirement already satisfied: MarkupSafe>=2.0 in c:\\users\\ralph\\anaconda3\\lib\\site-packages (from jinja2->torch) (2.0.1)\n",
            "Requirement already satisfied: urllib3<3,>=1.21.1 in c:\\users\\ralph\\anaconda3\\lib\\site-packages (from requests->transformers) (1.26.7)\n",
            "Requirement already satisfied: idna<4,>=2.5 in c:\\users\\ralph\\anaconda3\\lib\\site-packages (from requests->transformers) (3.2)\n",
            "Requirement already satisfied: charset-normalizer<4,>=2 in c:\\users\\ralph\\anaconda3\\lib\\site-packages (from requests->transformers) (2.0.4)\n",
            "Requirement already satisfied: certifi>=2017.4.17 in c:\\users\\ralph\\anaconda3\\lib\\site-packages (from requests->transformers) (2024.8.30)\n",
            "Requirement already satisfied: mpmath>=0.19 in c:\\users\\ralph\\anaconda3\\lib\\site-packages (from sympy->torch) (1.2.1)\n",
            "Note: you may need to restart the kernel to use updated packages.\n"
          ]
        }
      ],
      "source": [
        "pip install --upgrade transformers accelerate torch"
      ]
    },
    {
      "cell_type": "code",
      "execution_count": null,
      "id": "93331cd7",
      "metadata": {
        "id": "93331cd7"
      },
      "outputs": [],
      "source": []
    }
  ],
  "metadata": {
    "kernelspec": {
      "display_name": "Python 3 (ipykernel)",
      "language": "python",
      "name": "python3"
    },
    "language_info": {
      "codemirror_mode": {
        "name": "ipython",
        "version": 3
      },
      "file_extension": ".py",
      "mimetype": "text/x-python",
      "name": "python",
      "nbconvert_exporter": "python",
      "pygments_lexer": "ipython3",
      "version": "3.8.5"
    },
    "colab": {
      "provenance": []
    }
  },
  "nbformat": 4,
  "nbformat_minor": 5
}